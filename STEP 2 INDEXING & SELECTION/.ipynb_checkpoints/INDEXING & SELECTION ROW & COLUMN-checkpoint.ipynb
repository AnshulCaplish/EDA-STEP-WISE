{
 "cells": [
  {
   "cell_type": "markdown",
   "metadata": {},
   "source": [
    "# ILOC, LOC, BOOLEAN SELECTION & INDEXING"
   ]
  },
  {
   "cell_type": "markdown",
   "metadata": {},
   "source": [
    "## 1) ILOC  :: \n",
    ".iloc is primarily integer position based (from 0 to length-1 of the axis), but may also be used with a boolean array. .iloc will raise IndexError if a requested indexer is out-of-bounds,"
   ]
  },
  {
   "cell_type": "code",
   "execution_count": null,
   "metadata": {},
   "outputs": [],
   "source": [
    "# loc gets rows (or columns) with particular labels( Numeric as well as strings) from the index.\n",
    "# iloc gets rows (or columns) at particular positions in the index (so it only takes integers means only index vales of rows and columns).\n",
    "# Slicing using iloc\n",
    "# With a list of Row NUmber\n",
    "# To show row with index no.index 0 means 0th row is here\n",
    "print(df.iloc[0])        # <class 'pandas.core.series.Series'>\n",
    "print()\n",
    "\n",
    "# Row No 0 and 1\n",
    "print()\n",
    "print(df.iloc[[0,1]])     # <class 'pandas.core.frame.DataFrame'>\n",
    "\n",
    "# Here we have given the slice in the rows only and selecting all columns\n",
    "print(df.iloc[5:10])\n",
    "\n",
    "# df.iloc[row_index, column_index]\n",
    "# column index starts from 0 for ist column\n",
    "# all rows, but limited columns \n",
    "# in iloc values are incluive in left and exclusive in right.\n",
    "print(df.iloc[:,2:5])    \n",
    "\n",
    "#With `slice` objects.\n",
    "# Range passed 9 to 15 for rows and 2 to 6 for columns\n",
    "print(df.iloc[9:15,2:6])\n",
    "\n",
    "# if we want to see only particular row number of our choice then we put the rows & columns on the list.\n",
    "# List of indexes passed for rows and column\n",
    "print(df.iloc[[0,3,6,24],[0,5,6]])\n",
    "\n",
    "# To print only even rows using lambda\n",
    "# in dataframe row is called index\n",
    "df.iloc[lambda x: x.index % 2 == 0]"
   ]
  },
  {
   "cell_type": "markdown",
   "metadata": {},
   "source": [
    "## 2)  LOC\n",
    "DataFrame   df.loc[row_indexer,column_indexer]\n",
    "\n"
   ]
  },
  {
   "cell_type": "code",
   "execution_count": null,
   "metadata": {},
   "outputs": [],
   "source": [
    "# * **loc**: label based selection\n",
    "# Index label: String or list of string of index label of rows\n",
    "# loc takes column name also\n",
    "    \n",
    "# To access single column or multiple\n",
    "print(df['MarketingType'])\n",
    "print(df.MarketingType)   # Same\n",
    "print(df[['MarketingType','ReleaseNumber']])\n",
    "\n",
    "print(df.loc[1])       #pandas.core.series.Series\n",
    "# To access single row with index no\n",
    "print(df.loc[[1]])     # pandas.core.frame.DataFrame\n",
    "# Index 1 and 5\n",
    "print(df.loc[[1,5]])\n",
    "\n",
    "# df.loc[row_label, column_label]\n",
    "# column label string is accepted\n",
    "# It will give one value that collapse in row 1 of that specified  column    Becos it is one D array series\n",
    "print(df.loc[1,\"ReleaseYear\"])   \n",
    "\n",
    "\n",
    "# To get selected rows and columns use loc\n",
    "#df.loc[[row_name],column_name]\n",
    "print(df.loc[[1,5],['MarketingType','ReleaseNumber']])\n",
    "\n",
    "# It will give full column or all rows of that specified  column name\n",
    "print(df.loc[:,\"ReleaseNumber\"])    # this is series\n",
    "print(df.loc[:,[\"ReleaseNumber\"]])   # this is dataframe\n",
    "\n",
    "# Slicing mulitple columns for all rows or full column.\n",
    "print(df.loc[:,[\"Product_Type\", \"MarketingType\"]])\n",
    "\n",
    "# in loc values are inclusive in both the ends of []. \n",
    "print(df.loc[0:4,['SoldFlag','MarketingType', 'ReleaseYear']])\n",
    "\n",
    "# It will give full row of index 0\n",
    "# for colon : no need of extra brackets [ ], but for comma for multiple rows or columns, we need extra brackets[ ]\n",
    "print(df.loc[0,:])\n",
    "\n",
    "#  It will give full row of index 2,3,4\n",
    "print(df.loc[2:4,:])\n",
    "\n",
    "# If we want to see particular data only\n",
    "print(df.loc[df['ReleaseYear']==2010])\n",
    "# if we want a value with row and column collapse at same value\n",
    "print(df.loc[(df['ReleaseYear']==2010),'MarketingType'])     # inner df(row,column)\n",
    "# It is similar to this below line no such effect of loc. We can directly do.\n",
    "print(df[df['ReleaseYear']==2010])\n",
    "\n",
    "# Correct way of writing and checking the condition\n",
    "print(df.loc[df['Order'] == 208023, ['Order', 'ReleaseNumber']])\n",
    "\n",
    "# OR    -----------> we can write below also  \n",
    "\n",
    "# putting condition to get particular data for selective columns.\n",
    "print(df[['Order','ReleaseNumber']][df['Order']==208023])\n",
    "\n",
    "# Same as below no effect of loc\n",
    "print(df[['Order','ReleaseNumber']].loc[df['Order']==208023])\n",
    "\n",
    "# show the data of the release year column where the order is equal 208023\n",
    "print(df[['ReleaseYear']][df['Order']==208023])\n"
   ]
  },
  {
   "cell_type": "markdown",
   "metadata": {},
   "source": [
    "## 3) BOOLEAN SELECTION"
   ]
  },
  {
   "cell_type": "code",
   "execution_count": null,
   "metadata": {},
   "outputs": [],
   "source": [
    "# we can check boolean condition over the column values \n",
    "is_long=df.PriceReg>2000\n",
    "# now it will display only those true result in df\n",
    "df[is_long]\n",
    "\n",
    "# or directly\n",
    "\n",
    "df[df.PriceReg>2000]\n",
    "\n",
    "# only sold flag column will will disply for tose pricereg is true.\n",
    "df.loc[df.PriceReg>2000,'SoldFlag']\n",
    "\n",
    "# It will give boolean result\n",
    "print(df['SoldFlag'] == 1)\n",
    "print(df['PriceReg'] > 2000)\n",
    "\n",
    "# It will shows particular data of df\n",
    "# Viewing on those that are true\n",
    "print(df[df['SoldFlag'] == 1])\n",
    "print(df[df['PriceReg']>2000])\n",
    "\n",
    "# Filtering on exact cell values\n",
    "print(df[df['Product_Type'] == 'Historical'])\n",
    "# Checking multiple conditions:\n",
    "# in pandas ''&'' is (logical and) and in python ''&'' is (bit wise and)\n",
    "print(df[(df['PriceReg']>500)& (df['ReleaseYear']==2010)])\n",
    "print(df[(df['ReleaseYear'] == 2015) | (df['ReleaseYear'] == 2012)])\n",
    "# OR\n",
    "print(df.loc[(df['ReleaseYear'] == 2015) | (df['ReleaseYear'] == 2012)])\n",
    "\n",
    "# Print data based on ReleaseYear 2015 and 2012\n",
    "df[(df['ReleaseYear'] == isin[2015,2012])]\n",
    "\n",
    "#remove the credit transactions (those with invoice numbers containing C anywhere in value).\n",
    "df = df[~df['InvoiceNo'].str.contains('C')]\n",
    "#  some of the descriptions have spaces that need to be removed. \n",
    "df['Description'] = df['Description'].str.strip()\n",
    "\n",
    "# NOTE:\n",
    "\n",
    "#### a & b (pandas) = a and b (python)\n",
    "#### a | b (pandas) = a or b (python)"
   ]
  },
  {
   "cell_type": "code",
   "execution_count": null,
   "metadata": {},
   "outputs": [],
   "source": []
  },
  {
   "cell_type": "code",
   "execution_count": null,
   "metadata": {},
   "outputs": [],
   "source": []
  },
  {
   "cell_type": "code",
   "execution_count": null,
   "metadata": {},
   "outputs": [],
   "source": []
  },
  {
   "cell_type": "code",
   "execution_count": null,
   "metadata": {},
   "outputs": [],
   "source": []
  },
  {
   "cell_type": "code",
   "execution_count": null,
   "metadata": {},
   "outputs": [],
   "source": []
  },
  {
   "cell_type": "code",
   "execution_count": null,
   "metadata": {},
   "outputs": [],
   "source": []
  }
 ],
 "metadata": {
  "kernelspec": {
   "display_name": "Python 3",
   "language": "python",
   "name": "python3"
  },
  "language_info": {
   "codemirror_mode": {
    "name": "ipython",
    "version": 3
   },
   "file_extension": ".py",
   "mimetype": "text/x-python",
   "name": "python",
   "nbconvert_exporter": "python",
   "pygments_lexer": "ipython3",
   "version": "3.7.3"
  }
 },
 "nbformat": 4,
 "nbformat_minor": 2
}
