{
 "cells": [
  {
   "cell_type": "markdown",
   "metadata": {},
   "source": [
    "# MAP & APPLY IN LAMBDA"
   ]
  },
  {
   "cell_type": "code",
   "execution_count": null,
   "metadata": {},
   "outputs": [],
   "source": [
    "# map to create new column by mapping one column\n",
    "df['sex_num']=df.sex.map({'male':1,'female':0})\n",
    "   \n",
    "# apply method to calculate the length of column name and put the length in name_length new column.\n",
    "df['name_length']=df.name.apply(len)\n",
    "   \n",
    "# without lambda\n",
    "# The following example passes a function and checks the value of each element in series \n",
    "# and returns low, normal or High accordingly.\n",
    "import pandas as pd \n",
    "  \n",
    "# reading csv \n",
    "s = pd.read_csv(\"stock.csv\", squeeze = True) \n",
    "  \n",
    "# defining function to check price \n",
    "def fun(num): \n",
    "  \n",
    "    if num<200: \n",
    "        return \"Low\"\n",
    "  \n",
    "    elif num>= 200 and num<400: \n",
    "        return \"Normal\"\n",
    "  \n",
    "    else: \n",
    "        return \"High\"\n",
    "  \n",
    "# passing function to apply and storing returned series in new \n",
    "new = s.apply(fun) \n",
    "  \n",
    "# printing first 3 element \n",
    "print(new.head(3)) \n",
    "  \n",
    "# printing elements somewhere near the middle of series \n",
    "print(new[1400], new[1500], new[1600]) \n",
    "  \n",
    "# printing last 3 elements \n",
    "print(new.tail(3))"
   ]
  },
  {
   "cell_type": "code",
   "execution_count": null,
   "metadata": {},
   "outputs": [],
   "source": [
    "# with lambda\n",
    "# In the following example, a temporary anonymous function is made in .apply itself using lambda.\n",
    "# It adds 5 to each value in series and returns a new series.\n",
    "\n",
    "import pandas as pd \n",
    "s = pd.read_csv(\"SalesKaggle3.csv\", squeeze = True) \n",
    "print(s.head(2))\n",
    "  \n",
    "# adding 5 to each value \n",
    "new = s.Order.apply(lambda num : num + 5) \n",
    "print(new)  \n",
    "\n",
    "# apply with lambda first split the column with comma and then taking the 0th index element from name column \n",
    "df.name.str.split(',').apply(lambda x:x[0]).head()\n",
    "\n",
    "# applymap is a dataframe function, it is implemented over all the elements of the dataframe\n",
    "s.loc[:,['ItemCount','Packing Sizes']].applymap(float)"
   ]
  },
  {
   "cell_type": "markdown",
   "metadata": {},
   "source": [
    "# ITERATE ROWS & COLUMNS"
   ]
  },
  {
   "cell_type": "code",
   "execution_count": null,
   "metadata": {},
   "outputs": [],
   "source": [
    "import numpy as np\n",
    "import pandas as pd\n",
    "# open a csv file as a dataframe\n",
    "dataset=pd.read_csv('SalesKaggle3.csv')\n",
    "\n",
    "# to print all columns \n",
    "for i in dataset:\n",
    "    print(i)"
   ]
  },
  {
   "cell_type": "code",
   "execution_count": null,
   "metadata": {},
   "outputs": [],
   "source": [
    "# to print column name and then its value and then next column name and its value and so on.\n",
    "# to iterate over each column\n",
    "for key,value in dataset.items():\n",
    "    print(key,value)"
   ]
  },
  {
   "cell_type": "code",
   "execution_count": null,
   "metadata": {},
   "outputs": [],
   "source": [
    "# to iterate over each row\n",
    "# it will print first row with all its column data and then next row.\n",
    "ser1 = pd.Series( ['USA', 'Germany','USSR', 'korea'])\n",
    "ser2 = pd.Series( ['israel', 'france','Italy', 'malaysia'])\n",
    "ser3 = pd.Series( ['germany', 'singapore','USSR', 'india'])\n",
    "ser4 = pd.Series( ['dubai', 'brazil','India', 'Japan'])\n",
    "frame={'w':ser1,'x':ser2,'y':ser3,'z':ser4}\n",
    "dataset=pd.DataFrame(frame)\n",
    "print(dataset)\n",
    "for index,row in dataset.iterrows():\n",
    "    print(index,row)"
   ]
  },
  {
   "cell_type": "code",
   "execution_count": null,
   "metadata": {},
   "outputs": [],
   "source": [
    "# iterating over the selected columns (row by row)\n",
    "for index, row in dataset.iterrows():\n",
    "    # only printing the rows until Angola\n",
    "    if index == 2:\n",
    "        break\n",
    "    \n",
    "    print(index, '\\n', row[['w','y']], '\\n')"
   ]
  },
  {
   "cell_type": "markdown",
   "metadata": {},
   "source": [
    "# STACK & UNSATCK"
   ]
  },
  {
   "cell_type": "markdown",
   "metadata": {},
   "source": [
    "## DataFrame.stack(self, level=-1, dropna=True)[source]\n",
    "Stack the prescribed level(s) from columns to index.\n",
    "\n",
    "Return a reshaped DataFrame or Series having a multi-level index with one or more new inner-most levels compared to the current DataFrame. The new inner-most levels are created by pivoting the columns of the current dataframe:\n",
    "\n",
    "if the columns have a single level, the output is a Series;\n",
    "\n",
    "if the columns have multiple levels, the new index level(s) is (are) taken from the prescribed level(s) and the output is a DataFrame.\n",
    "\n",
    "The new index levels are sorted"
   ]
  },
  {
   "cell_type": "code",
   "execution_count": null,
   "metadata": {},
   "outputs": [],
   "source": [
    "df_single_level_cols = pd.DataFrame([[0, 1], [2, 3]],\n",
    "                                    index=['cat', 'dog'],\n",
    "                                    columns=['weight', 'height'])\n",
    "print(df_single_level_cols)\n",
    "print(df_single_level_cols.stack())"
   ]
  },
  {
   "cell_type": "code",
   "execution_count": null,
   "metadata": {},
   "outputs": [],
   "source": [
    "multicol1 = pd.MultiIndex.from_tuples([('weight', 'kg'),\n",
    "                                       ('weight', 'pounds')])\n",
    "df_multi_level_cols1 = pd.DataFrame([[1, 2], [2, 4]],\n",
    "                                    index=['cat', 'dog'],\n",
    "                                    columns=multicol1)"
   ]
  },
  {
   "cell_type": "code",
   "execution_count": null,
   "metadata": {},
   "outputs": [],
   "source": [
    "print(df_multi_level_cols1)\n",
    "print(df_multi_level_cols1.stack())"
   ]
  },
  {
   "cell_type": "code",
   "execution_count": null,
   "metadata": {},
   "outputs": [],
   "source": [
    "multicol2 = pd.MultiIndex.from_tuples([('weight', 'kg'),\n",
    "                                       ('height', 'm')])\n",
    "df_multi_level_cols2 = pd.DataFrame([[1.0, 2.0], [3.0, 4.0]],\n",
    "                                    index=['cat', 'dog'],\n",
    "                                    columns=multicol2)"
   ]
  },
  {
   "cell_type": "code",
   "execution_count": null,
   "metadata": {},
   "outputs": [],
   "source": [
    "print(df_multi_level_cols2)\n",
    "print(df_multi_level_cols2.stack())\n",
    "print(df_multi_level_cols2.stack(0))\n",
    "print(df_multi_level_cols2.stack([0, 1]))"
   ]
  },
  {
   "cell_type": "markdown",
   "metadata": {},
   "source": [
    "# PROFILING A DATAFRAME"
   ]
  },
  {
   "cell_type": "code",
   "execution_count": null,
   "metadata": {},
   "outputs": [],
   "source": [
    "# it returns interaactive html report\n",
    "import pandas_profiling\n",
    "pandas_profiling.ProfileReport(titanic)"
   ]
  }
 ],
 "metadata": {
  "kernelspec": {
   "display_name": "Python 3",
   "language": "python",
   "name": "python3"
  },
  "language_info": {
   "codemirror_mode": {
    "name": "ipython",
    "version": 3
   },
   "file_extension": ".py",
   "mimetype": "text/x-python",
   "name": "python",
   "nbconvert_exporter": "python",
   "pygments_lexer": "ipython3",
   "version": "3.7.3"
  }
 },
 "nbformat": 4,
 "nbformat_minor": 2
}
