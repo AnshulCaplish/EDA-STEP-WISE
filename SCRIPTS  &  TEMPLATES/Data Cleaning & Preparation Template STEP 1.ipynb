{
 "cells": [
  {
   "cell_type": "markdown",
   "metadata": {},
   "source": [
    "## Before fitting a machine learning or statistical model, we always have to clean the data. No models create meaningful results with messy data.\n",
    "Data cleaning or cleansing is the process of detecting and correcting (or removing) corrupt or inaccurate records from a record set, table, or database and refers to identifying incomplete, incorrect, inaccurate or irrelevant parts of the data and then replacing, modifying, or deleting the dirty or coarse data"
   ]
  },
  {
   "cell_type": "markdown",
   "metadata": {},
   "source": [
    "# Techniques on how to find and clean:\n",
    "1. Missing Data\n",
    "2. Irregular Data (Outliers)\n",
    "3. Unnecessary Data — Repetitive Data, Duplicates and more\n",
    "4. Inconsistent Data — Capitalization, Addresses and more"
   ]
  },
  {
   "cell_type": "markdown",
   "metadata": {},
   "source": [
    "# ----------------------------------------------------------------------------------------------------------"
   ]
  },
  {
   "cell_type": "markdown",
   "metadata": {},
   "source": [
    "# 1. How to find Missing data"
   ]
  },
  {
   "cell_type": "markdown",
   "metadata": {},
   "source": [
    "## Before we jump into the cleaning process, let’s take a brief look at the data."
   ]
  },
  {
   "cell_type": "code",
   "execution_count": 2,
   "metadata": {},
   "outputs": [
    {
     "name": "stdout",
     "output_type": "stream",
     "text": [
      "(30471, 292)\n",
      "id                      int64\n",
      "timestamp              object\n",
      "full_sq                 int64\n",
      "life_sq               float64\n",
      "floor                 float64\n",
      "                       ...   \n",
      "mosque_count_5000       int64\n",
      "leisure_count_5000      int64\n",
      "sport_count_5000        int64\n",
      "market_count_5000       int64\n",
      "price_doc               int64\n",
      "Length: 292, dtype: object\n",
      "['id' 'full_sq' 'life_sq' 'floor' 'max_floor' 'material' 'build_year'\n",
      " 'num_room' 'kitch_sq' 'state' 'area_m' 'raion_popul' 'green_zone_part'\n",
      " 'indust_part' 'children_preschool' 'preschool_quota'\n",
      " 'preschool_education_centers_raion' 'children_school' 'school_quota'\n",
      " 'school_education_centers_raion' 'school_education_centers_top_20_raion'\n",
      " 'hospital_beds_raion' 'healthcare_centers_raion'\n",
      " 'university_top_20_raion' 'sport_objects_raion'\n",
      " 'additional_education_raion' 'culture_objects_top_25_raion'\n",
      " 'shopping_centers_raion' 'office_raion' 'full_all' 'male_f' 'female_f'\n",
      " 'young_all' 'young_male' 'young_female' 'work_all' 'work_male'\n",
      " 'work_female' 'ekder_all' 'ekder_male' 'ekder_female' '0_6_all'\n",
      " '0_6_male' '0_6_female' '7_14_all' '7_14_male' '7_14_female' '0_17_all'\n",
      " '0_17_male' '0_17_female' '16_29_all' '16_29_male' '16_29_female'\n",
      " '0_13_all' '0_13_male' '0_13_female'\n",
      " 'raion_build_count_with_material_info' 'build_count_block'\n",
      " 'build_count_wood' 'build_count_frame' 'build_count_brick'\n",
      " 'build_count_monolith' 'build_count_panel' 'build_count_foam'\n",
      " 'build_count_slag' 'build_count_mix'\n",
      " 'raion_build_count_with_builddate_info' 'build_count_before_1920'\n",
      " 'build_count_1921-1945' 'build_count_1946-1970' 'build_count_1971-1995'\n",
      " 'build_count_after_1995' 'ID_metro' 'metro_min_avto' 'metro_km_avto'\n",
      " 'metro_min_walk' 'metro_km_walk' 'kindergarten_km' 'school_km' 'park_km'\n",
      " 'green_zone_km' 'industrial_km' 'water_treatment_km' 'cemetery_km'\n",
      " 'incineration_km' 'railroad_station_walk_km' 'railroad_station_walk_min'\n",
      " 'ID_railroad_station_walk' 'railroad_station_avto_km'\n",
      " 'railroad_station_avto_min' 'ID_railroad_station_avto'\n",
      " 'public_transport_station_km' 'public_transport_station_min_walk'\n",
      " 'water_km' 'mkad_km' 'ttk_km' 'sadovoe_km' 'bulvar_ring_km' 'kremlin_km'\n",
      " 'big_road1_km' 'ID_big_road1' 'big_road2_km' 'ID_big_road2' 'railroad_km'\n",
      " 'zd_vokzaly_avto_km' 'ID_railroad_terminal' 'bus_terminal_avto_km'\n",
      " 'ID_bus_terminal' 'oil_chemistry_km' 'nuclear_reactor_km' 'radiation_km'\n",
      " 'power_transmission_line_km' 'thermal_power_plant_km' 'ts_km'\n",
      " 'big_market_km' 'market_shop_km' 'fitness_km' 'swim_pool_km'\n",
      " 'ice_rink_km' 'stadium_km' 'basketball_km' 'hospice_morgue_km'\n",
      " 'detention_facility_km' 'public_healthcare_km' 'university_km'\n",
      " 'workplaces_km' 'shopping_centers_km' 'office_km'\n",
      " 'additional_education_km' 'preschool_km' 'big_church_km'\n",
      " 'church_synagogue_km' 'mosque_km' 'theater_km' 'museum_km'\n",
      " 'exhibition_km' 'catering_km' 'green_part_500' 'prom_part_500'\n",
      " 'office_count_500' 'office_sqm_500' 'trc_count_500' 'trc_sqm_500'\n",
      " 'cafe_count_500' 'cafe_sum_500_min_price_avg'\n",
      " 'cafe_sum_500_max_price_avg' 'cafe_avg_price_500'\n",
      " 'cafe_count_500_na_price' 'cafe_count_500_price_500'\n",
      " 'cafe_count_500_price_1000' 'cafe_count_500_price_1500'\n",
      " 'cafe_count_500_price_2500' 'cafe_count_500_price_4000'\n",
      " 'cafe_count_500_price_high' 'big_church_count_500' 'church_count_500'\n",
      " 'mosque_count_500' 'leisure_count_500' 'sport_count_500'\n",
      " 'market_count_500' 'green_part_1000' 'prom_part_1000' 'office_count_1000'\n",
      " 'office_sqm_1000' 'trc_count_1000' 'trc_sqm_1000' 'cafe_count_1000'\n",
      " 'cafe_sum_1000_min_price_avg' 'cafe_sum_1000_max_price_avg'\n",
      " 'cafe_avg_price_1000' 'cafe_count_1000_na_price'\n",
      " 'cafe_count_1000_price_500' 'cafe_count_1000_price_1000'\n",
      " 'cafe_count_1000_price_1500' 'cafe_count_1000_price_2500'\n",
      " 'cafe_count_1000_price_4000' 'cafe_count_1000_price_high'\n",
      " 'big_church_count_1000' 'church_count_1000' 'mosque_count_1000'\n",
      " 'leisure_count_1000' 'sport_count_1000' 'market_count_1000'\n",
      " 'green_part_1500' 'prom_part_1500' 'office_count_1500' 'office_sqm_1500'\n",
      " 'trc_count_1500' 'trc_sqm_1500' 'cafe_count_1500'\n",
      " 'cafe_sum_1500_min_price_avg' 'cafe_sum_1500_max_price_avg'\n",
      " 'cafe_avg_price_1500' 'cafe_count_1500_na_price'\n",
      " 'cafe_count_1500_price_500' 'cafe_count_1500_price_1000'\n",
      " 'cafe_count_1500_price_1500' 'cafe_count_1500_price_2500'\n",
      " 'cafe_count_1500_price_4000' 'cafe_count_1500_price_high'\n",
      " 'big_church_count_1500' 'church_count_1500' 'mosque_count_1500'\n",
      " 'leisure_count_1500' 'sport_count_1500' 'market_count_1500'\n",
      " 'green_part_2000' 'prom_part_2000' 'office_count_2000' 'office_sqm_2000'\n",
      " 'trc_count_2000' 'trc_sqm_2000' 'cafe_count_2000'\n",
      " 'cafe_sum_2000_min_price_avg' 'cafe_sum_2000_max_price_avg'\n",
      " 'cafe_avg_price_2000' 'cafe_count_2000_na_price'\n",
      " 'cafe_count_2000_price_500' 'cafe_count_2000_price_1000'\n",
      " 'cafe_count_2000_price_1500' 'cafe_count_2000_price_2500'\n",
      " 'cafe_count_2000_price_4000' 'cafe_count_2000_price_high'\n",
      " 'big_church_count_2000' 'church_count_2000' 'mosque_count_2000'\n",
      " 'leisure_count_2000' 'sport_count_2000' 'market_count_2000'\n",
      " 'green_part_3000' 'prom_part_3000' 'office_count_3000' 'office_sqm_3000'\n",
      " 'trc_count_3000' 'trc_sqm_3000' 'cafe_count_3000'\n",
      " 'cafe_sum_3000_min_price_avg' 'cafe_sum_3000_max_price_avg'\n",
      " 'cafe_avg_price_3000' 'cafe_count_3000_na_price'\n",
      " 'cafe_count_3000_price_500' 'cafe_count_3000_price_1000'\n",
      " 'cafe_count_3000_price_1500' 'cafe_count_3000_price_2500'\n",
      " 'cafe_count_3000_price_4000' 'cafe_count_3000_price_high'\n",
      " 'big_church_count_3000' 'church_count_3000' 'mosque_count_3000'\n",
      " 'leisure_count_3000' 'sport_count_3000' 'market_count_3000'\n",
      " 'green_part_5000' 'prom_part_5000' 'office_count_5000' 'office_sqm_5000'\n",
      " 'trc_count_5000' 'trc_sqm_5000' 'cafe_count_5000'\n",
      " 'cafe_sum_5000_min_price_avg' 'cafe_sum_5000_max_price_avg'\n",
      " 'cafe_avg_price_5000' 'cafe_count_5000_na_price'\n",
      " 'cafe_count_5000_price_500' 'cafe_count_5000_price_1000'\n",
      " 'cafe_count_5000_price_1500' 'cafe_count_5000_price_2500'\n",
      " 'cafe_count_5000_price_4000' 'cafe_count_5000_price_high'\n",
      " 'big_church_count_5000' 'church_count_5000' 'mosque_count_5000'\n",
      " 'leisure_count_5000' 'sport_count_5000' 'market_count_5000' 'price_doc']\n",
      "['timestamp' 'product_type' 'sub_area' 'culture_objects_top_25'\n",
      " 'thermal_power_plant_raion' 'incineration_raion' 'oil_chemistry_raion'\n",
      " 'radiation_raion' 'railroad_terminal_raion' 'big_market_raion'\n",
      " 'nuclear_reactor_raion' 'detention_facility_raion' 'water_1line'\n",
      " 'big_road1_1line' 'railroad_1line' 'ecology']\n"
     ]
    }
   ],
   "source": [
    "import pandas as pd\n",
    "import numpy as np\n",
    "import seaborn as sns\n",
    "\n",
    "import matplotlib.pyplot as plt\n",
    "import matplotlib.mlab as mlab\n",
    "import matplotlib\n",
    "plt.style.use('ggplot')\n",
    "from matplotlib.pyplot import figure\n",
    "\n",
    "%matplotlib inline\n",
    "matplotlib.rcParams['figure.figsize'] = (12,8)\n",
    "\n",
    "pd.options.mode.chained_assignment = None\n",
    "\n",
    "\n",
    "\n",
    "# read the data\n",
    "df = pd.read_csv('train.csv')\n",
    "\n",
    "# shape and data types of the data\n",
    "print(df.shape)\n",
    "print(df.dtypes)\n",
    "\n",
    "# select numeric columns\n",
    "df_numeric = df.select_dtypes(include=[np.number])\n",
    "numeric_cols = df_numeric.columns.values\n",
    "print(numeric_cols)\n",
    "\n",
    "# select non numeric columns\n",
    "df_non_numeric = df.select_dtypes(exclude=[np.number])\n",
    "non_numeric_cols = df_non_numeric.columns.values\n",
    "print(non_numeric_cols)"
   ]
  },
  {
   "cell_type": "markdown",
   "metadata": {},
   "source": [
    "## (A).  Dealing with missing data/value is one of the most tricky but common parts of data cleaning."
   ]
  },
  {
   "cell_type": "markdown",
   "metadata": {},
   "source": [
    "### Technique #1: Missing Data Heatmap"
   ]
  },
  {
   "cell_type": "code",
   "execution_count": 3,
   "metadata": {},
   "outputs": [
    {
     "data": {
      "text/plain": [
       "<matplotlib.axes._subplots.AxesSubplot at 0x946b450b00>"
      ]
     },
     "execution_count": 3,
     "metadata": {},
     "output_type": "execute_result"
    },
    {
     "data": {
      "image/png": "[encoded data removed]",
      "text/plain": [
       "<Figure size 432x288 with 2 Axes>"
      ]
     },
     "metadata": {
      "needs_background": "light"
     },
     "output_type": "display_data"
    }
   ],
   "source": [
    "\n",
    "cols = df.columns[:30] # first 30 columns\n",
    "colours = ['#000099', '#ffff00'] # specify the colours - yellow is missing. blue is not missing.\n",
    "sns.heatmap(df[cols].isnull(), cmap=sns.color_palette(colours))\n",
    "\n",
    "# The chart below demonstrates the missing data patterns of the first 30 Columns.\n",
    "# The horizontal axis shows the Column name; the vertical axis shows the number of observations/rows;\n",
    "# the yellow color represents the missing data while the blue color otherwise"
   ]
  },
  {
   "cell_type": "markdown",
   "metadata": {},
   "source": [
    "### The chart below demonstrates the missing data patterns of the first 30 features. The horizontal axis shows the feature name; the vertical axis shows the number of observations/rows; the yellow color represents the missing data while the blue color otherwise.\n",
    "For example, we see that the life_sq feature has missing values throughout many rows. While the floor feature only has little missing values around the 7000th row."
   ]
  },
  {
   "cell_type": "markdown",
   "metadata": {},
   "source": [
    "### Technique #2: Missing Data Percentage List "
   ]
  },
  {
   "cell_type": "code",
   "execution_count": 4,
   "metadata": {},
   "outputs": [
    {
     "name": "stdout",
     "output_type": "stream",
     "text": [
      "id - 0.0%\n",
      "timestamp - 0.0%\n",
      "full_sq - 0.0%\n",
      "life_sq - 21.0%\n",
      "floor - 1.0%\n",
      "max_floor - 31.0%\n",
      "material - 31.0%\n",
      "build_year - 45.0%\n",
      "num_room - 31.0%\n",
      "kitch_sq - 31.0%\n",
      "state - 44.0%\n",
      "product_type - 0.0%\n",
      "sub_area - 0.0%\n",
      "area_m - 0.0%\n",
      "raion_popul - 0.0%\n",
      "green_zone_part - 0.0%\n",
      "indust_part - 0.0%\n",
      "children_preschool - 0.0%\n",
      "preschool_quota - 22.0%\n",
      "preschool_education_centers_raion - 0.0%\n",
      "children_school - 0.0%\n",
      "school_quota - 22.0%\n",
      "school_education_centers_raion - 0.0%\n",
      "school_education_centers_top_20_raion - 0.0%\n",
      "hospital_beds_raion - 47.0%\n",
      "healthcare_centers_raion - 0.0%\n",
      "university_top_20_raion - 0.0%\n",
      "sport_objects_raion - 0.0%\n",
      "additional_education_raion - 0.0%\n",
      "culture_objects_top_25 - 0.0%\n",
      "culture_objects_top_25_raion - 0.0%\n",
      "shopping_centers_raion - 0.0%\n",
      "office_raion - 0.0%\n",
      "thermal_power_plant_raion - 0.0%\n",
      "incineration_raion - 0.0%\n",
      "oil_chemistry_raion - 0.0%\n",
      "radiation_raion - 0.0%\n",
      "railroad_terminal_raion - 0.0%\n",
      "big_market_raion - 0.0%\n",
      "nuclear_reactor_raion - 0.0%\n",
      "detention_facility_raion - 0.0%\n",
      "full_all - 0.0%\n",
      "male_f - 0.0%\n",
      "female_f - 0.0%\n",
      "young_all - 0.0%\n",
      "young_male - 0.0%\n",
      "young_female - 0.0%\n",
      "work_all - 0.0%\n",
      "work_male - 0.0%\n",
      "work_female - 0.0%\n",
      "ekder_all - 0.0%\n",
      "ekder_male - 0.0%\n",
      "ekder_female - 0.0%\n",
      "0_6_all - 0.0%\n",
      "0_6_male - 0.0%\n",
      "0_6_female - 0.0%\n",
      "7_14_all - 0.0%\n",
      "7_14_male - 0.0%\n",
      "7_14_female - 0.0%\n",
      "0_17_all - 0.0%\n",
      "0_17_male - 0.0%\n",
      "0_17_female - 0.0%\n",
      "16_29_all - 0.0%\n",
      "16_29_male - 0.0%\n",
      "16_29_female - 0.0%\n",
      "0_13_all - 0.0%\n",
      "0_13_male - 0.0%\n",
      "0_13_female - 0.0%\n",
      "raion_build_count_with_material_info - 16.0%\n",
      "build_count_block - 16.0%\n",
      "build_count_wood - 16.0%\n",
      "build_count_frame - 16.0%\n",
      "build_count_brick - 16.0%\n",
      "build_count_monolith - 16.0%\n",
      "build_count_panel - 16.0%\n",
      "build_count_foam - 16.0%\n",
      "build_count_slag - 16.0%\n",
      "build_count_mix - 16.0%\n",
      "raion_build_count_with_builddate_info - 16.0%\n",
      "build_count_before_1920 - 16.0%\n",
      "build_count_1921-1945 - 16.0%\n",
      "build_count_1946-1970 - 16.0%\n",
      "build_count_1971-1995 - 16.0%\n",
      "build_count_after_1995 - 16.0%\n",
      "ID_metro - 0.0%\n",
      "metro_min_avto - 0.0%\n",
      "metro_km_avto - 0.0%\n",
      "metro_min_walk - 0.0%\n",
      "metro_km_walk - 0.0%\n",
      "kindergarten_km - 0.0%\n",
      "school_km - 0.0%\n",
      "park_km - 0.0%\n",
      "green_zone_km - 0.0%\n",
      "industrial_km - 0.0%\n",
      "water_treatment_km - 0.0%\n",
      "cemetery_km - 0.0%\n",
      "incineration_km - 0.0%\n",
      "railroad_station_walk_km - 0.0%\n",
      "railroad_station_walk_min - 0.0%\n",
      "ID_railroad_station_walk - 0.0%\n",
      "railroad_station_avto_km - 0.0%\n",
      "railroad_station_avto_min - 0.0%\n",
      "ID_railroad_station_avto - 0.0%\n",
      "public_transport_station_km - 0.0%\n",
      "public_transport_station_min_walk - 0.0%\n",
      "water_km - 0.0%\n",
      "water_1line - 0.0%\n",
      "mkad_km - 0.0%\n",
      "ttk_km - 0.0%\n",
      "sadovoe_km - 0.0%\n",
      "bulvar_ring_km - 0.0%\n",
      "kremlin_km - 0.0%\n",
      "big_road1_km - 0.0%\n",
      "ID_big_road1 - 0.0%\n",
      "big_road1_1line - 0.0%\n",
      "big_road2_km - 0.0%\n",
      "ID_big_road2 - 0.0%\n",
      "railroad_km - 0.0%\n",
      "railroad_1line - 0.0%\n",
      "zd_vokzaly_avto_km - 0.0%\n",
      "ID_railroad_terminal - 0.0%\n",
      "bus_terminal_avto_km - 0.0%\n",
      "ID_bus_terminal - 0.0%\n",
      "oil_chemistry_km - 0.0%\n",
      "nuclear_reactor_km - 0.0%\n",
      "radiation_km - 0.0%\n",
      "power_transmission_line_km - 0.0%\n",
      "thermal_power_plant_km - 0.0%\n",
      "ts_km - 0.0%\n",
      "big_market_km - 0.0%\n",
      "market_shop_km - 0.0%\n",
      "fitness_km - 0.0%\n",
      "swim_pool_km - 0.0%\n",
      "ice_rink_km - 0.0%\n",
      "stadium_km - 0.0%\n",
      "basketball_km - 0.0%\n",
      "hospice_morgue_km - 0.0%\n",
      "detention_facility_km - 0.0%\n",
      "public_healthcare_km - 0.0%\n",
      "university_km - 0.0%\n",
      "workplaces_km - 0.0%\n",
      "shopping_centers_km - 0.0%\n",
      "office_km - 0.0%\n",
      "additional_education_km - 0.0%\n",
      "preschool_km - 0.0%\n",
      "big_church_km - 0.0%\n",
      "church_synagogue_km - 0.0%\n",
      "mosque_km - 0.0%\n",
      "theater_km - 0.0%\n",
      "museum_km - 0.0%\n",
      "exhibition_km - 0.0%\n",
      "catering_km - 0.0%\n",
      "ecology - 0.0%\n",
      "green_part_500 - 0.0%\n",
      "prom_part_500 - 0.0%\n",
      "office_count_500 - 0.0%\n",
      "office_sqm_500 - 0.0%\n",
      "trc_count_500 - 0.0%\n",
      "trc_sqm_500 - 0.0%\n",
      "cafe_count_500 - 0.0%\n",
      "cafe_sum_500_min_price_avg - 44.0%\n",
      "cafe_sum_500_max_price_avg - 44.0%\n",
      "cafe_avg_price_500 - 44.0%\n",
      "cafe_count_500_na_price - 0.0%\n",
      "cafe_count_500_price_500 - 0.0%\n",
      "cafe_count_500_price_1000 - 0.0%\n",
      "cafe_count_500_price_1500 - 0.0%\n",
      "cafe_count_500_price_2500 - 0.0%\n",
      "cafe_count_500_price_4000 - 0.0%\n",
      "cafe_count_500_price_high - 0.0%\n",
      "big_church_count_500 - 0.0%\n",
      "church_count_500 - 0.0%\n",
      "mosque_count_500 - 0.0%\n",
      "leisure_count_500 - 0.0%\n",
      "sport_count_500 - 0.0%\n",
      "market_count_500 - 0.0%\n",
      "green_part_1000 - 0.0%\n",
      "prom_part_1000 - 0.0%\n",
      "office_count_1000 - 0.0%\n",
      "office_sqm_1000 - 0.0%\n",
      "trc_count_1000 - 0.0%\n",
      "trc_sqm_1000 - 0.0%\n",
      "cafe_count_1000 - 0.0%\n",
      "cafe_sum_1000_min_price_avg - 21.0%\n",
      "cafe_sum_1000_max_price_avg - 21.0%\n",
      "cafe_avg_price_1000 - 21.0%\n",
      "cafe_count_1000_na_price - 0.0%\n",
      "cafe_count_1000_price_500 - 0.0%\n",
      "cafe_count_1000_price_1000 - 0.0%\n",
      "cafe_count_1000_price_1500 - 0.0%\n",
      "cafe_count_1000_price_2500 - 0.0%\n",
      "cafe_count_1000_price_4000 - 0.0%\n",
      "cafe_count_1000_price_high - 0.0%\n",
      "big_church_count_1000 - 0.0%\n",
      "church_count_1000 - 0.0%\n",
      "mosque_count_1000 - 0.0%\n",
      "leisure_count_1000 - 0.0%\n",
      "sport_count_1000 - 0.0%\n",
      "market_count_1000 - 0.0%\n",
      "green_part_1500 - 0.0%\n",
      "prom_part_1500 - 0.0%\n",
      "office_count_1500 - 0.0%\n",
      "office_sqm_1500 - 0.0%\n",
      "trc_count_1500 - 0.0%\n",
      "trc_sqm_1500 - 0.0%\n",
      "cafe_count_1500 - 0.0%\n",
      "cafe_sum_1500_min_price_avg - 14.0%\n",
      "cafe_sum_1500_max_price_avg - 14.0%\n",
      "cafe_avg_price_1500 - 14.0%\n",
      "cafe_count_1500_na_price - 0.0%\n",
      "cafe_count_1500_price_500 - 0.0%\n",
      "cafe_count_1500_price_1000 - 0.0%\n",
      "cafe_count_1500_price_1500 - 0.0%\n",
      "cafe_count_1500_price_2500 - 0.0%\n",
      "cafe_count_1500_price_4000 - 0.0%\n",
      "cafe_count_1500_price_high - 0.0%\n",
      "big_church_count_1500 - 0.0%\n",
      "church_count_1500 - 0.0%\n",
      "mosque_count_1500 - 0.0%\n",
      "leisure_count_1500 - 0.0%\n",
      "sport_count_1500 - 0.0%\n",
      "market_count_1500 - 0.0%\n",
      "green_part_2000 - 0.0%\n",
      "prom_part_2000 - 0.0%\n",
      "office_count_2000 - 0.0%\n",
      "office_sqm_2000 - 0.0%\n",
      "trc_count_2000 - 0.0%\n",
      "trc_sqm_2000 - 0.0%\n",
      "cafe_count_2000 - 0.0%\n",
      "cafe_sum_2000_min_price_avg - 6.0%\n",
      "cafe_sum_2000_max_price_avg - 6.0%\n",
      "cafe_avg_price_2000 - 6.0%\n",
      "cafe_count_2000_na_price - 0.0%\n",
      "cafe_count_2000_price_500 - 0.0%\n",
      "cafe_count_2000_price_1000 - 0.0%\n",
      "cafe_count_2000_price_1500 - 0.0%\n",
      "cafe_count_2000_price_2500 - 0.0%\n",
      "cafe_count_2000_price_4000 - 0.0%\n",
      "cafe_count_2000_price_high - 0.0%\n",
      "big_church_count_2000 - 0.0%\n",
      "church_count_2000 - 0.0%\n",
      "mosque_count_2000 - 0.0%\n",
      "leisure_count_2000 - 0.0%\n",
      "sport_count_2000 - 0.0%\n",
      "market_count_2000 - 0.0%\n",
      "green_part_3000 - 0.0%\n",
      "prom_part_3000 - 0.0%\n",
      "office_count_3000 - 0.0%\n",
      "office_sqm_3000 - 0.0%\n",
      "trc_count_3000 - 0.0%\n",
      "trc_sqm_3000 - 0.0%\n",
      "cafe_count_3000 - 0.0%\n",
      "cafe_sum_3000_min_price_avg - 3.0%\n",
      "cafe_sum_3000_max_price_avg - 3.0%\n",
      "cafe_avg_price_3000 - 3.0%\n",
      "cafe_count_3000_na_price - 0.0%\n",
      "cafe_count_3000_price_500 - 0.0%\n",
      "cafe_count_3000_price_1000 - 0.0%\n",
      "cafe_count_3000_price_1500 - 0.0%\n",
      "cafe_count_3000_price_2500 - 0.0%\n",
      "cafe_count_3000_price_4000 - 0.0%\n",
      "cafe_count_3000_price_high - 0.0%\n",
      "big_church_count_3000 - 0.0%\n",
      "church_count_3000 - 0.0%\n",
      "mosque_count_3000 - 0.0%\n",
      "leisure_count_3000 - 0.0%\n",
      "sport_count_3000 - 0.0%\n",
      "market_count_3000 - 0.0%\n",
      "green_part_5000 - 0.0%\n",
      "prom_part_5000 - 1.0%\n",
      "office_count_5000 - 0.0%\n",
      "office_sqm_5000 - 0.0%\n",
      "trc_count_5000 - 0.0%\n",
      "trc_sqm_5000 - 0.0%\n",
      "cafe_count_5000 - 0.0%\n",
      "cafe_sum_5000_min_price_avg - 1.0%\n",
      "cafe_sum_5000_max_price_avg - 1.0%\n",
      "cafe_avg_price_5000 - 1.0%\n",
      "cafe_count_5000_na_price - 0.0%\n",
      "cafe_count_5000_price_500 - 0.0%\n",
      "cafe_count_5000_price_1000 - 0.0%\n",
      "cafe_count_5000_price_1500 - 0.0%\n",
      "cafe_count_5000_price_2500 - 0.0%\n",
      "cafe_count_5000_price_4000 - 0.0%\n",
      "cafe_count_5000_price_high - 0.0%\n",
      "big_church_count_5000 - 0.0%\n",
      "church_count_5000 - 0.0%\n",
      "mosque_count_5000 - 0.0%\n",
      "leisure_count_5000 - 0.0%\n",
      "sport_count_5000 - 0.0%\n",
      "market_count_5000 - 0.0%\n",
      "price_doc - 0.0%\n"
     ]
    }
   ],
   "source": [
    "# When there are many features in the dataset, we can make a list of missing data % for each Column.\n",
    "\n",
    "\n",
    "# if it's a larger dataset and the visualization takes too long can do this.\n",
    "# % of missing.\n",
    "for col in df.columns:\n",
    "    pct_missing = np.mean(df[col].isnull())\n",
    "    print('{} - {}%'.format(col, round(pct_missing*100)))\n",
    "    \n",
    "# This produces a list below showing the percentage of missing values for each of the Column.  \n"
   ]
  },
  {
   "cell_type": "markdown",
   "metadata": {},
   "source": [
    "### Specifically, we see that the life_sq feature has 21% missing, while floor has only 1% missing. This list is a useful summary that can complement the heatmap visualization.\n"
   ]
  },
  {
   "cell_type": "markdown",
   "metadata": {},
   "source": [
    "### Technique #3: Missing Data Histogram"
   ]
  },
  {
   "cell_type": "code",
   "execution_count": 6,
   "metadata": {},
   "outputs": [
    {
     "name": "stdout",
     "output_type": "stream",
     "text": [
      "created missing indicator for: life_sq\n",
      "created missing indicator for: floor\n",
      "created missing indicator for: max_floor\n",
      "created missing indicator for: material\n",
      "created missing indicator for: build_year\n",
      "created missing indicator for: num_room\n",
      "created missing indicator for: kitch_sq\n",
      "created missing indicator for: state\n",
      "created missing indicator for: preschool_quota\n",
      "created missing indicator for: school_quota\n",
      "created missing indicator for: hospital_beds_raion\n",
      "created missing indicator for: raion_build_count_with_material_info\n",
      "created missing indicator for: build_count_block\n",
      "created missing indicator for: build_count_wood\n",
      "created missing indicator for: build_count_frame\n",
      "created missing indicator for: build_count_brick\n",
      "created missing indicator for: build_count_monolith\n",
      "created missing indicator for: build_count_panel\n",
      "created missing indicator for: build_count_foam\n",
      "created missing indicator for: build_count_slag\n",
      "created missing indicator for: build_count_mix\n",
      "created missing indicator for: raion_build_count_with_builddate_info\n",
      "created missing indicator for: build_count_before_1920\n",
      "created missing indicator for: build_count_1921-1945\n",
      "created missing indicator for: build_count_1946-1970\n",
      "created missing indicator for: build_count_1971-1995\n",
      "created missing indicator for: build_count_after_1995\n",
      "created missing indicator for: metro_min_walk\n",
      "created missing indicator for: metro_km_walk\n",
      "created missing indicator for: railroad_station_walk_km\n",
      "created missing indicator for: railroad_station_walk_min\n",
      "created missing indicator for: ID_railroad_station_walk\n",
      "created missing indicator for: cafe_sum_500_min_price_avg\n",
      "created missing indicator for: cafe_sum_500_max_price_avg\n",
      "created missing indicator for: cafe_avg_price_500\n",
      "created missing indicator for: cafe_sum_1000_min_price_avg\n",
      "created missing indicator for: cafe_sum_1000_max_price_avg\n",
      "created missing indicator for: cafe_avg_price_1000\n",
      "created missing indicator for: cafe_sum_1500_min_price_avg\n",
      "created missing indicator for: cafe_sum_1500_max_price_avg\n",
      "created missing indicator for: cafe_avg_price_1500\n",
      "created missing indicator for: cafe_sum_2000_min_price_avg\n",
      "created missing indicator for: cafe_sum_2000_max_price_avg\n",
      "created missing indicator for: cafe_avg_price_2000\n",
      "created missing indicator for: cafe_sum_3000_min_price_avg\n",
      "created missing indicator for: cafe_sum_3000_max_price_avg\n",
      "created missing indicator for: cafe_avg_price_3000\n",
      "created missing indicator for: prom_part_5000\n",
      "created missing indicator for: cafe_sum_5000_min_price_avg\n",
      "created missing indicator for: cafe_sum_5000_max_price_avg\n",
      "created missing indicator for: cafe_avg_price_5000\n",
      "AxesSubplot(0.125,0.125;0.775x0.755)\n"
     ]
    },
    {
     "data": {
      "image/png": "[encoded data removed]",
      "text/plain": [
       "<Figure size 432x288 with 1 Axes>"
      ]
     },
     "metadata": {
      "needs_background": "light"
     },
     "output_type": "display_data"
    }
   ],
   "source": [
    "# Missing data histogram is also a technique for when we have many columns.\n",
    "# To learn more about the missing value patterns among observations, we can visualize it by a histogram.\n",
    "\n",
    "# first create missing indicator for features with missing data\n",
    "for col in df.columns:\n",
    "    missing = df[col].isnull()\n",
    "    num_missing = np.sum(missing)\n",
    "    \n",
    "    if num_missing > 0:  \n",
    "        print('created missing indicator for: {}'.format(col))\n",
    "        df['{}_ismissing'.format(col)] = missing\n",
    "\n",
    "\n",
    "# then based on the indicator, plot the histogram of missing values\n",
    "ismissing_cols = [col for col in df.columns if 'ismissing' in col]\n",
    "df['num_missing'] = df[ismissing_cols].sum(axis=1)\n",
    "\n",
    "print(df['num_missing'].value_counts().reset_index().sort_values(by='index').plot.bar(x='index', y='num_missing'))\n",
    "\n",
    "# This histogram helps to identify the missing values situations among all the rows.\n",
    "# For example, there are over 6000 observations with no missing values and close to 4000 observations with one missing value."
   ]
  },
  {
   "cell_type": "markdown",
   "metadata": {},
   "source": [
    "## What to do?\n",
    "There are NO agreed-upon solutions to dealing with missing data.\n",
    "We have to study the specific feature and dataset to decide the best way of handling them.\n",
    "Below covers the four most common methods of handling missing data.\n",
    "But, if the situation is more complicated than usual, \n",
    "we need to be creative to use more sophisticated methods such as missing data modeling."
   ]
  },
  {
   "cell_type": "markdown",
   "metadata": {},
   "source": [
    "## Solution #1: Drop the Observation\n",
    "In statistics, this method is called the listwise deletion technique. In this solution, we drop the entire observation as long as it contains a missing value.\n",
    "Only if we are sure that the missing data is not informative, we perform this. Otherwise, we should consider other solutions.\n",
    "There could be other criteria to use to drop the observations.\n",
    "For example, from the missing data histogram, we notice that only a minimal amount of observations have over 35 features missing altogether. We may create a new dataset df_less_missing_rows deleting observations with over 35 missing features.\n"
   ]
  },
  {
   "cell_type": "code",
   "execution_count": 7,
   "metadata": {},
   "outputs": [],
   "source": [
    "# drop rows with a lot of missing values.\n",
    "ind_missing = df[df['num_missing'] > 35].index\n",
    "df_less_missing_rows = df.drop(ind_missing, axis=0)\n"
   ]
  },
  {
   "cell_type": "markdown",
   "metadata": {},
   "source": [
    "## Solution #2: Drop the Feature\n",
    "Similar to Solution #1, we only do this when we are confident that this feature doesn’t provide useful information.\n",
    "For example, from the missing data % list, we notice that hospital_beds_raion has a high missing value percentage of 47%. We may drop the entire feature."
   ]
  },
  {
   "cell_type": "code",
   "execution_count": 8,
   "metadata": {},
   "outputs": [],
   "source": [
    "# hospital_beds_raion has a lot of missing.\n",
    "# If we want to drop.\n",
    "cols_to_drop = ['hospital_beds_raion']\n",
    "df_less_hos_beds_raion = df.drop(cols_to_drop, axis=1)"
   ]
  },
  {
   "cell_type": "markdown",
   "metadata": {},
   "source": [
    "## Solution #3: Impute the Missing\n",
    "When the feature is a numeric variable, we can conduct missing data imputation. We replace the missing values with the average or median value from the data of the same feature that is not missing.\n",
    "When the feature is a categorical variable, we may impute the missing data by the mode (the most frequent value).\n",
    "Using life_sq as an example, we can replace the missing values of this feature by its median."
   ]
  },
  {
   "cell_type": "code",
   "execution_count": 9,
   "metadata": {},
   "outputs": [
    {
     "name": "stdout",
     "output_type": "stream",
     "text": [
      "30.0\n"
     ]
    }
   ],
   "source": [
    "# replace missing values with the median.\n",
    "med = df['life_sq'].median()\n",
    "print(med)\n",
    "df['life_sq'] = df['life_sq'].fillna(med)"
   ]
  },
  {
   "cell_type": "markdown",
   "metadata": {},
   "source": [
    "## Moreover, we can apply the same imputation strategy for all the numeric features at once."
   ]
  },
  {
   "cell_type": "code",
   "execution_count": 10,
   "metadata": {},
   "outputs": [
    {
     "name": "stdout",
     "output_type": "stream",
     "text": [
      "imputing missing values for: floor\n",
      "imputing missing values for: max_floor\n",
      "imputing missing values for: material\n",
      "imputing missing values for: build_year\n",
      "imputing missing values for: num_room\n",
      "imputing missing values for: kitch_sq\n",
      "imputing missing values for: state\n",
      "imputing missing values for: preschool_quota\n",
      "imputing missing values for: school_quota\n",
      "imputing missing values for: hospital_beds_raion\n",
      "imputing missing values for: raion_build_count_with_material_info\n",
      "imputing missing values for: build_count_block\n",
      "imputing missing values for: build_count_wood\n",
      "imputing missing values for: build_count_frame\n",
      "imputing missing values for: build_count_brick\n",
      "imputing missing values for: build_count_monolith\n",
      "imputing missing values for: build_count_panel\n",
      "imputing missing values for: build_count_foam\n",
      "imputing missing values for: build_count_slag\n",
      "imputing missing values for: build_count_mix\n",
      "imputing missing values for: raion_build_count_with_builddate_info\n",
      "imputing missing values for: build_count_before_1920\n",
      "imputing missing values for: build_count_1921-1945\n",
      "imputing missing values for: build_count_1946-1970\n",
      "imputing missing values for: build_count_1971-1995\n",
      "imputing missing values for: build_count_after_1995\n",
      "imputing missing values for: metro_min_walk\n",
      "imputing missing values for: metro_km_walk\n",
      "imputing missing values for: railroad_station_walk_km\n",
      "imputing missing values for: railroad_station_walk_min\n",
      "imputing missing values for: ID_railroad_station_walk\n",
      "imputing missing values for: cafe_sum_500_min_price_avg\n",
      "imputing missing values for: cafe_sum_500_max_price_avg\n",
      "imputing missing values for: cafe_avg_price_500\n",
      "imputing missing values for: cafe_sum_1000_min_price_avg\n",
      "imputing missing values for: cafe_sum_1000_max_price_avg\n",
      "imputing missing values for: cafe_avg_price_1000\n",
      "imputing missing values for: cafe_sum_1500_min_price_avg\n",
      "imputing missing values for: cafe_sum_1500_max_price_avg\n",
      "imputing missing values for: cafe_avg_price_1500\n",
      "imputing missing values for: cafe_sum_2000_min_price_avg\n",
      "imputing missing values for: cafe_sum_2000_max_price_avg\n",
      "imputing missing values for: cafe_avg_price_2000\n",
      "imputing missing values for: cafe_sum_3000_min_price_avg\n",
      "imputing missing values for: cafe_sum_3000_max_price_avg\n",
      "imputing missing values for: cafe_avg_price_3000\n",
      "imputing missing values for: prom_part_5000\n",
      "imputing missing values for: cafe_sum_5000_min_price_avg\n",
      "imputing missing values for: cafe_sum_5000_max_price_avg\n",
      "imputing missing values for: cafe_avg_price_5000\n"
     ]
    }
   ],
   "source": [
    "# impute the missing values and create the missing value indicator variables for each numeric column.\n",
    "df_numeric = df.select_dtypes(include=[np.number])\n",
    "numeric_cols = df_numeric.columns.values\n",
    "\n",
    "for col in numeric_cols:\n",
    "    missing = df[col].isnull()\n",
    "    num_missing = np.sum(missing)\n",
    "    \n",
    "    if num_missing > 0:  # only do the imputation for the columns that have missing values.\n",
    "        print('imputing missing values for: {}'.format(col))\n",
    "        df['{}_ismissing'.format(col)] = missing\n",
    "        med = df[col].median()\n",
    "        df[col] = df[col].fillna(med)"
   ]
  },
  {
   "cell_type": "markdown",
   "metadata": {},
   "source": [
    "## Luckily, our dataset has no missing value for categorical features. Yet, we can apply the mode imputation strategy for all the categorical features at once."
   ]
  },
  {
   "cell_type": "code",
   "execution_count": 11,
   "metadata": {},
   "outputs": [],
   "source": [
    "# impute the missing values and create the missing value indicator variables for each non-numeric column.\n",
    "df_non_numeric = df.select_dtypes(exclude=[np.number])\n",
    "non_numeric_cols = df_non_numeric.columns.values\n",
    "\n",
    "for col in non_numeric_cols:\n",
    "    missing = df[col].isnull()\n",
    "    num_missing = np.sum(missing)\n",
    "    \n",
    "    if num_missing > 0:  # only do the imputation for the columns that have missing values.\n",
    "        print('imputing missing values for: {}'.format(col))\n",
    "        df['{}_ismissing'.format(col)] = missing\n",
    "        \n",
    "        top = df[col].describe()['top'] # impute with the most frequent value.\n",
    "        df[col] = df[col].fillna(top)"
   ]
  },
  {
   "cell_type": "markdown",
   "metadata": {},
   "source": [
    "## Solution #4: Replace the Missing\n",
    "For categorical features, we can add a new category with a value such as “_MISSING_”. For numerical features, we can replace it with a particular value such as -999.\n",
    "This way, we are still keeping the missing values as valuable information.\n"
   ]
  },
  {
   "cell_type": "code",
   "execution_count": 12,
   "metadata": {},
   "outputs": [],
   "source": [
    "# categorical\n",
    "df['sub_area'] = df['sub_area'].fillna('_MISSING_')\n",
    "\n",
    "\n",
    "# numeric\n",
    "df['life_sq'] = df['life_sq'].fillna(-999)"
   ]
  },
  {
   "cell_type": "markdown",
   "metadata": {},
   "source": [
    "## (B). Irregular data (Outliers)\n",
    "Outliers are data that is distinctively different from other observations. They could be real outliers or mistakes."
   ]
  },
  {
   "cell_type": "markdown",
   "metadata": {},
   "source": [
    "### How to find out?\n",
    "Depending on whether the feature is numeric or categorical, we can use different techniques to study its distribution to detect outliers."
   ]
  },
  {
   "cell_type": "markdown",
   "metadata": {},
   "source": [
    "### Technique #1: Histogram/Box Plot\n",
    "When the feature is numeric, we can use a histogram and box plot to detect outliers.\n",
    "Below is the histogram of feature life_sq."
   ]
  },
  {
   "cell_type": "code",
   "execution_count": 13,
   "metadata": {},
   "outputs": [
    {
     "data": {
      "text/plain": [
       "<matplotlib.axes._subplots.AxesSubplot at 0x946b89c240>"
      ]
     },
     "execution_count": 13,
     "metadata": {},
     "output_type": "execute_result"
    },
    {
     "data": {
      "image/png": "[encoded data removed]",
      "text/plain": [
       "<Figure size 432x288 with 1 Axes>"
      ]
     },
     "metadata": {
      "needs_background": "light"
     },
     "output_type": "display_data"
    }
   ],
   "source": [
    "# histogram of life_sq.\n",
    "df['life_sq'].hist(bins=100)\n",
    "# The data looks highly skewed with the possible existence of outliers."
   ]
  },
  {
   "cell_type": "code",
   "execution_count": 14,
   "metadata": {},
   "outputs": [
    {
     "data": {
      "text/plain": [
       "<matplotlib.axes._subplots.AxesSubplot at 0x940f599cf8>"
      ]
     },
     "execution_count": 14,
     "metadata": {},
     "output_type": "execute_result"
    },
    {
     "data": {
      "image/png": "[encoded data removed]",
      "text/plain": [
       "<Figure size 432x288 with 1 Axes>"
      ]
     },
     "metadata": {
      "needs_background": "light"
     },
     "output_type": "display_data"
    }
   ],
   "source": [
    "# To study the feature closer, let’s make a box plot.\n",
    "# box plot.\n",
    "df.boxplot(column=['life_sq'])\n",
    "# In this plot, we can see there is an outlier at a value of over 7000."
   ]
  },
  {
   "cell_type": "markdown",
   "metadata": {},
   "source": [
    "## Technique #2: Descriptive Statistics\n",
    "Also, for numeric features, the outliers could be too distinct that the box plot can’t visualize them. Instead, we can look at their descriptive statistics.\n",
    "For example, for the feature life_sq again, we can see that the maximum value is 7478, while the 75% quartile is only 43. The 7478 value is an outlier."
   ]
  },
  {
   "cell_type": "code",
   "execution_count": 15,
   "metadata": {},
   "outputs": [
    {
     "data": {
      "text/plain": [
       "count    30471.000000\n",
       "mean        33.480883\n",
       "std         46.522251\n",
       "min          0.000000\n",
       "25%         22.000000\n",
       "50%         30.000000\n",
       "75%         38.000000\n",
       "max       7478.000000\n",
       "Name: life_sq, dtype: float64"
      ]
     },
     "execution_count": 15,
     "metadata": {},
     "output_type": "execute_result"
    }
   ],
   "source": [
    "df['life_sq'].describe()"
   ]
  },
  {
   "cell_type": "markdown",
   "metadata": {},
   "source": [
    "## Technique #3: Bar Chart\n",
    "When the feature is categorical. We can use a bar chart to learn about its categories and distribution.\n",
    "For example, the feature ecology has a reasonable distribution. But if there is a category with only one value called “other”, then that would be an outlier."
   ]
  },
  {
   "cell_type": "code",
   "execution_count": 16,
   "metadata": {},
   "outputs": [
    {
     "data": {
      "text/plain": [
       "<matplotlib.axes._subplots.AxesSubplot at 0x940f6574a8>"
      ]
     },
     "execution_count": 16,
     "metadata": {},
     "output_type": "execute_result"
    },
    {
     "data": {
      "image/png": "[encoded data removed]",
      "text/plain": [
       "<Figure size 432x288 with 1 Axes>"
      ]
     },
     "metadata": {
      "needs_background": "light"
     },
     "output_type": "display_data"
    }
   ],
   "source": [
    "# bar chart -  distribution of a categorical variable\n",
    "df['ecology'].value_counts().plot.bar()"
   ]
  },
  {
   "cell_type": "markdown",
   "metadata": {},
   "source": [
    "### Other Techniques: Many other techniques can spot outliers as well, such as scatter plot, z-score, and clustering. This article does not cover all of those.\n",
    "What to do?\n",
    "While outliers are not hard to detect, we have to determine the right solutions to handle them. It highly depends on the dataset and the goal of the project.\n",
    "The methods of handling outliers are somewhat similar to missing data. We either drop or adjust or keep them. We can refer back to the missing data section for possible solutions."
   ]
  },
  {
   "cell_type": "markdown",
   "metadata": {},
   "source": [
    "## (C). Unnecessary data"
   ]
  },
  {
   "cell_type": "markdown",
   "metadata": {},
   "source": [
    "## After all the hard work done for missing data and outliers, let’s look at unnecessary data, which is more straightforward.\n",
    "All the data feeding into the model should serve the purpose of the project. The unnecessary data is when the data doesn’t add value. We cover three main types of unnecessary data due to different reasons."
   ]
  },
  {
   "cell_type": "markdown",
   "metadata": {},
   "source": [
    "## Unnecessary type #1: Uninformative / Repetitive\n",
    "Sometimes one feature is uninformative because it has too many rows being the same value.\n",
    "How to find out?\n",
    "We can create a list of features with a high percentage of the same value.\n",
    "For example, we specify below to show features with over 95% rows being the same value."
   ]
  },
  {
   "cell_type": "code",
   "execution_count": 17,
   "metadata": {},
   "outputs": [
    {
     "name": "stdout",
     "output_type": "stream",
     "text": [
      "oil_chemistry_raion: 99.02858%\n",
      "no     30175\n",
      "yes      296\n",
      "Name: oil_chemistry_raion, dtype: int64\n",
      "\n",
      "railroad_terminal_raion: 96.27187%\n",
      "no     29335\n",
      "yes     1136\n",
      "Name: railroad_terminal_raion, dtype: int64\n",
      "\n",
      "nuclear_reactor_raion: 97.16780%\n",
      "no     29608\n",
      "yes      863\n",
      "Name: nuclear_reactor_raion, dtype: int64\n",
      "\n",
      "build_count_foam: 95.35624%\n",
      "0.0     29056\n",
      "1.0       969\n",
      "11.0      262\n",
      "2.0       184\n",
      "Name: build_count_foam, dtype: int64\n",
      "\n",
      "big_road1_1line: 97.43691%\n",
      "no     29690\n",
      "yes      781\n",
      "Name: big_road1_1line, dtype: int64\n",
      "\n",
      "railroad_1line: 97.06934%\n",
      "no     29578\n",
      "yes      893\n",
      "Name: railroad_1line, dtype: int64\n",
      "\n",
      "cafe_count_500_price_high: 97.25641%\n",
      "0    29635\n",
      "1      787\n",
      "2       38\n",
      "3       11\n",
      "Name: cafe_count_500_price_high, dtype: int64\n",
      "\n",
      "mosque_count_500: 99.51101%\n",
      "0    30322\n",
      "1      149\n",
      "Name: mosque_count_500, dtype: int64\n",
      "\n",
      "cafe_count_1000_price_high: 95.52689%\n",
      "0    29108\n",
      "1     1104\n",
      "2      145\n",
      "3       51\n",
      "4       39\n",
      "5       15\n",
      "6        8\n",
      "7        1\n",
      "Name: cafe_count_1000_price_high, dtype: int64\n",
      "\n",
      "mosque_count_1000: 98.08342%\n",
      "0    29887\n",
      "1      584\n",
      "Name: mosque_count_1000, dtype: int64\n",
      "\n",
      "mosque_count_1500: 96.21936%\n",
      "0    29319\n",
      "1     1152\n",
      "Name: mosque_count_1500, dtype: int64\n",
      "\n",
      "floor_ismissing: 99.45194%\n",
      "False    30304\n",
      "True       167\n",
      "Name: floor_ismissing, dtype: int64\n",
      "\n",
      "metro_min_walk_ismissing: 99.91795%\n",
      "False    30446\n",
      "True        25\n",
      "Name: metro_min_walk_ismissing, dtype: int64\n",
      "\n",
      "metro_km_walk_ismissing: 99.91795%\n",
      "False    30446\n",
      "True        25\n",
      "Name: metro_km_walk_ismissing, dtype: int64\n",
      "\n",
      "railroad_station_walk_km_ismissing: 99.91795%\n",
      "False    30446\n",
      "True        25\n",
      "Name: railroad_station_walk_km_ismissing, dtype: int64\n",
      "\n",
      "railroad_station_walk_min_ismissing: 99.91795%\n",
      "False    30446\n",
      "True        25\n",
      "Name: railroad_station_walk_min_ismissing, dtype: int64\n",
      "\n",
      "ID_railroad_station_walk_ismissing: 99.91795%\n",
      "False    30446\n",
      "True        25\n",
      "Name: ID_railroad_station_walk_ismissing, dtype: int64\n",
      "\n",
      "cafe_sum_3000_min_price_avg_ismissing: 96.74773%\n",
      "False    29480\n",
      "True       991\n",
      "Name: cafe_sum_3000_min_price_avg_ismissing, dtype: int64\n",
      "\n",
      "cafe_sum_3000_max_price_avg_ismissing: 96.74773%\n",
      "False    29480\n",
      "True       991\n",
      "Name: cafe_sum_3000_max_price_avg_ismissing, dtype: int64\n",
      "\n",
      "cafe_avg_price_3000_ismissing: 96.74773%\n",
      "False    29480\n",
      "True       991\n",
      "Name: cafe_avg_price_3000_ismissing, dtype: int64\n",
      "\n",
      "prom_part_5000_ismissing: 99.41584%\n",
      "False    30293\n",
      "True       178\n",
      "Name: prom_part_5000_ismissing, dtype: int64\n",
      "\n",
      "cafe_sum_5000_min_price_avg_ismissing: 99.02530%\n",
      "False    30174\n",
      "True       297\n",
      "Name: cafe_sum_5000_min_price_avg_ismissing, dtype: int64\n",
      "\n",
      "cafe_sum_5000_max_price_avg_ismissing: 99.02530%\n",
      "False    30174\n",
      "True       297\n",
      "Name: cafe_sum_5000_max_price_avg_ismissing, dtype: int64\n",
      "\n",
      "cafe_avg_price_5000_ismissing: 99.02530%\n",
      "False    30174\n",
      "True       297\n",
      "Name: cafe_avg_price_5000_ismissing, dtype: int64\n",
      "\n"
     ]
    }
   ],
   "source": [
    "num_rows = len(df.index)\n",
    "low_information_cols = [] #\n",
    "\n",
    "for col in df.columns:\n",
    "    cnts = df[col].value_counts(dropna=False)\n",
    "    top_pct = (cnts/num_rows).iloc[0]\n",
    "    \n",
    "    if top_pct > 0.95:\n",
    "        low_information_cols.append(col)\n",
    "        print('{0}: {1:.5f}%'.format(col, top_pct*100))\n",
    "        print(cnts)\n",
    "        print()"
   ]
  },
  {
   "cell_type": "markdown",
   "metadata": {},
   "source": [
    "### We can look into these variables one by one to see whether they are informative or not. We won’t show the details here. What to do?\n",
    "We need to understand the reasons behind the repetitive feature. When they are genuinely uninformative, we can toss them out."
   ]
  },
  {
   "cell_type": "markdown",
   "metadata": {},
   "source": [
    "## Unnecessary type #2: Irrelevant\n",
    "Again, the data needs to provide valuable information for the project. If the features are not related to the question we are trying to solve in the project, they are irrelevant.\n",
    "How to find out?\n",
    "We need to skim through the features to identify irrelevant ones.\n",
    "For example, a feature recording the temperature in Toronto doesn’t provide any useful insights to predict Russian housing prices.\n",
    "What to do?\n",
    "When the features are not serving the project’s goal, we can remove them."
   ]
  },
  {
   "cell_type": "markdown",
   "metadata": {},
   "source": [
    "## Unnecessary type #3: Duplicates\n",
    "The duplicate data is when copies of the same observation exist.\n",
    "There are two main types of duplicate data.\n",
    "## Duplicates type #1: All Features based\n",
    "How to find out?\n",
    "This duplicate happens when all the features’ values within the observations are the same. It is easy to find.\n",
    "We first remove the unique identifier id in the dataset. Then we create a dataset called df_dedupped by dropping the duplicates. We compare the shapes of the two datasets (df and df_dedupped) to find out the number of duplicated rows."
   ]
  },
  {
   "cell_type": "code",
   "execution_count": 18,
   "metadata": {},
   "outputs": [
    {
     "name": "stdout",
     "output_type": "stream",
     "text": [
      "(30471, 344)\n",
      "(30461, 343)\n"
     ]
    }
   ],
   "source": [
    "# we know that column 'id' is unique, but what if we drop it?\n",
    "df_dedupped = df.drop('id', axis=1).drop_duplicates()\n",
    "\n",
    "# there were duplicate rows\n",
    "print(df.shape)\n",
    "print(df_dedupped.shape)\n",
    "# 10 rows are being complete duplicate observations\n",
    "# What to do?\n",
    "# We should remove these duplicates, which we already did."
   ]
  },
  {
   "cell_type": "markdown",
   "metadata": {},
   "source": [
    "## Duplicates type #2: Key Features based\n",
    "How to find out?\n",
    "Sometimes it is better to remove duplicate data based on a set of unique identifiers.\n",
    "For example, the chances of two transactions happening at the same time, with the same square footage, the same price, and the same build year are close to zero.\n",
    "We can set up a group of critical features as unique identifiers for transactions. We include timestamp, full_sq, life_sq, floor, build_year, num_room, price_doc. We check if there are duplicates based on them."
   ]
  },
  {
   "cell_type": "code",
   "execution_count": 19,
   "metadata": {},
   "outputs": [
    {
     "data": {
      "text/plain": [
       "timestamp   full_sq  life_sq  floor  build_year  num_room  price_doc\n",
       "2012-10-22  61       30.0     18.0   1979.0      2.0       8248500      2\n",
       "2014-12-17  62       30.0     9.0    1979.0      2.0       6552000      2\n",
       "2014-01-22  46       28.0     1.0    1968.0      2.0       3000000      2\n",
       "2013-04-03  42       30.0     2.0    1979.0      2.0       3444000      2\n",
       "2013-09-23  85       30.0     14.0   1979.0      3.0       7725974      2\n",
       "2012-08-27  59       30.0     6.0    1979.0      2.0       4506800      2\n",
       "2014-04-15  134      134.0    1.0    0.0         3.0       5798496      2\n",
       "2013-05-22  68       30.0     2.0    1979.0      2.0       5406690      2\n",
       "2013-12-05  40       30.0     5.0    1979.0      1.0       4414080      2\n",
       "2012-09-05  43       30.0     21.0   1979.0      2.0       6229540      2\n",
       "2015-03-30  41       41.0     11.0   2016.0      1.0       4114580      2\n",
       "2013-12-18  39       30.0     6.0    1979.0      1.0       3700946      2\n",
       "2013-06-24  40       30.0     12.0   1979.0      2.0       4112800      2\n",
       "2013-08-30  40       30.0     12.0   1979.0      1.0       4462000      2\n",
       "2014-12-09  40       30.0     17.0   1979.0      1.0       4607265      2\n",
       "2015-03-14  62       30.0     2.0    1979.0      2.0       6520500      2\n",
       "2013-08-29  60       60.0     11.0   0.0         2.0       6518400      1\n",
       "            56       41.0     2.0    1961.0      3.0       8380000      1\n",
       "            52       52.0     9.0    1979.0      2.0       5619060      1\n",
       "            58       58.0     13.0   2013.0      2.0       5764128      1\n",
       "Name: id, dtype: int64"
      ]
     },
     "execution_count": 19,
     "metadata": {},
     "output_type": "execute_result"
    }
   ],
   "source": [
    "key = ['timestamp', 'full_sq', 'life_sq', 'floor', 'build_year', 'num_room', 'price_doc']\n",
    "\n",
    "df.fillna(-999).groupby(key)['id'].count().sort_values(ascending=False).head(20)\n",
    "# There are 16 duplicates based on this set of key features.\n",
    "# What to do?\n",
    "# We can drop these duplicates based on the key features."
   ]
  },
  {
   "cell_type": "code",
   "execution_count": 20,
   "metadata": {},
   "outputs": [
    {
     "name": "stdout",
     "output_type": "stream",
     "text": [
      "(30471, 344)\n",
      "(30455, 344)\n"
     ]
    }
   ],
   "source": [
    "# drop duplicates based on an subset of variables.\n",
    "\n",
    "key = ['timestamp', 'full_sq', 'life_sq', 'floor', 'build_year', 'num_room', 'price_doc']\n",
    "df_dedupped2 = df.drop_duplicates(subset=key)\n",
    "\n",
    "print(df.shape)\n",
    "print(df_dedupped2.shape)\n",
    "# We dropped the 16 duplicates within the new dataset named df_dedupped2.\n"
   ]
  },
  {
   "cell_type": "markdown",
   "metadata": {},
   "source": [
    "## (D). Inconsistent data\n",
    "It is also crucial to have the dataset follow specific standards to fit a model. We need to explore the data in different ways to find out the inconsistent data. Much of the time, it depends on observations and experience. There is no set code to run and fix them all.\n",
    "Below we cover four inconsistent data types."
   ]
  },
  {
   "cell_type": "markdown",
   "metadata": {},
   "source": [
    "## Inconsistent type #1: Capitalization\n",
    "Inconsistent usage of upper and lower cases in categorical values is a common mistake. It could cause issues since analyses in Python is case sensitive.\n",
    "How to find out?\n",
    "Let’s look at the sub_area feature.\n"
   ]
  },
  {
   "cell_type": "code",
   "execution_count": 21,
   "metadata": {},
   "outputs": [
    {
     "data": {
      "text/plain": [
       "Poselenie Sosenskoe               1776\n",
       "Nekrasovka                        1611\n",
       "Poselenie Vnukovskoe              1372\n",
       "Poselenie Moskovskij               925\n",
       "Poselenie Voskresenskoe            713\n",
       "                                  ... \n",
       "Molzhaninovskoe                      3\n",
       "Poselenie Kievskij                   2\n",
       "Poselenie Shhapovskoe                2\n",
       "Poselenie Klenovskoe                 1\n",
       "Poselenie Mihajlovo-Jarcevskoe       1\n",
       "Name: sub_area, Length: 146, dtype: int64"
      ]
     },
     "execution_count": 21,
     "metadata": {},
     "output_type": "execute_result"
    }
   ],
   "source": [
    "df['sub_area'].value_counts(dropna=False)\n",
    "# It stores the name of different areas and looks very standardized.\n"
   ]
  },
  {
   "cell_type": "markdown",
   "metadata": {},
   "source": [
    "## But sometimes there is inconsistent capitalization usage within the same feature. The “Poselenie Sosenskoe” and “pOseleNie sosenskeo” could refer to the same area.\n",
    "What to do?\n",
    "To avoid this, we can put all letters to lower cases (or upper cases)."
   ]
  },
  {
   "cell_type": "code",
   "execution_count": 22,
   "metadata": {},
   "outputs": [
    {
     "data": {
      "text/plain": [
       "poselenie sosenskoe               1776\n",
       "nekrasovka                        1611\n",
       "poselenie vnukovskoe              1372\n",
       "poselenie moskovskij               925\n",
       "poselenie voskresenskoe            713\n",
       "                                  ... \n",
       "molzhaninovskoe                      3\n",
       "poselenie shhapovskoe                2\n",
       "poselenie kievskij                   2\n",
       "poselenie klenovskoe                 1\n",
       "poselenie mihajlovo-jarcevskoe       1\n",
       "Name: sub_area_lower, Length: 146, dtype: int64"
      ]
     },
     "execution_count": 22,
     "metadata": {},
     "output_type": "execute_result"
    }
   ],
   "source": [
    "# make everything lower case.\n",
    "df['sub_area_lower'] = df['sub_area'].str.lower()\n",
    "df['sub_area_lower'].value_counts(dropna=False)"
   ]
  },
  {
   "cell_type": "markdown",
   "metadata": {},
   "source": [
    "## Inconsistent type #2: Formats\n",
    "Another standardization we need to perform is the data formats. One example is to convert the feature from string to DateTime format.\n",
    "How to find out?\n",
    "The feature timestamp is in string format while it represents dates."
   ]
  },
  {
   "cell_type": "code",
   "execution_count": 23,
   "metadata": {},
   "outputs": [
    {
     "data": {
      "text/html": [
       "<div>\n",
       "<style scoped>\n",
       "    .dataframe tbody tr th:only-of-type {\n",
       "        vertical-align: middle;\n",
       "    }\n",
       "\n",
       "    .dataframe tbody tr th {\n",
       "        vertical-align: top;\n",
       "    }\n",
       "\n",
       "    .dataframe thead th {\n",
       "        text-align: right;\n",
       "    }\n",
       "</style>\n",
       "<table border=\"1\" class=\"dataframe\">\n",
       "  <thead>\n",
       "    <tr style=\"text-align: right;\">\n",
       "      <th></th>\n",
       "      <th>id</th>\n",
       "      <th>timestamp</th>\n",
       "      <th>full_sq</th>\n",
       "      <th>life_sq</th>\n",
       "      <th>floor</th>\n",
       "      <th>max_floor</th>\n",
       "      <th>material</th>\n",
       "      <th>build_year</th>\n",
       "      <th>num_room</th>\n",
       "      <th>kitch_sq</th>\n",
       "      <th>...</th>\n",
       "      <th>cafe_avg_price_2000_ismissing</th>\n",
       "      <th>cafe_sum_3000_min_price_avg_ismissing</th>\n",
       "      <th>cafe_sum_3000_max_price_avg_ismissing</th>\n",
       "      <th>cafe_avg_price_3000_ismissing</th>\n",
       "      <th>prom_part_5000_ismissing</th>\n",
       "      <th>cafe_sum_5000_min_price_avg_ismissing</th>\n",
       "      <th>cafe_sum_5000_max_price_avg_ismissing</th>\n",
       "      <th>cafe_avg_price_5000_ismissing</th>\n",
       "      <th>num_missing</th>\n",
       "      <th>sub_area_lower</th>\n",
       "    </tr>\n",
       "  </thead>\n",
       "  <tbody>\n",
       "    <tr>\n",
       "      <td>0</td>\n",
       "      <td>1</td>\n",
       "      <td>2011-08-20</td>\n",
       "      <td>43</td>\n",
       "      <td>27.0</td>\n",
       "      <td>4.0</td>\n",
       "      <td>12.0</td>\n",
       "      <td>1.0</td>\n",
       "      <td>1979.0</td>\n",
       "      <td>2.0</td>\n",
       "      <td>6.0</td>\n",
       "      <td>...</td>\n",
       "      <td>False</td>\n",
       "      <td>False</td>\n",
       "      <td>False</td>\n",
       "      <td>False</td>\n",
       "      <td>False</td>\n",
       "      <td>False</td>\n",
       "      <td>False</td>\n",
       "      <td>False</td>\n",
       "      <td>9</td>\n",
       "      <td>bibirevo</td>\n",
       "    </tr>\n",
       "    <tr>\n",
       "      <td>1</td>\n",
       "      <td>2</td>\n",
       "      <td>2011-08-23</td>\n",
       "      <td>34</td>\n",
       "      <td>19.0</td>\n",
       "      <td>3.0</td>\n",
       "      <td>12.0</td>\n",
       "      <td>1.0</td>\n",
       "      <td>1979.0</td>\n",
       "      <td>2.0</td>\n",
       "      <td>6.0</td>\n",
       "      <td>...</td>\n",
       "      <td>False</td>\n",
       "      <td>False</td>\n",
       "      <td>False</td>\n",
       "      <td>False</td>\n",
       "      <td>False</td>\n",
       "      <td>False</td>\n",
       "      <td>False</td>\n",
       "      <td>False</td>\n",
       "      <td>6</td>\n",
       "      <td>nagatinskij zaton</td>\n",
       "    </tr>\n",
       "    <tr>\n",
       "      <td>2</td>\n",
       "      <td>3</td>\n",
       "      <td>2011-08-27</td>\n",
       "      <td>43</td>\n",
       "      <td>29.0</td>\n",
       "      <td>2.0</td>\n",
       "      <td>12.0</td>\n",
       "      <td>1.0</td>\n",
       "      <td>1979.0</td>\n",
       "      <td>2.0</td>\n",
       "      <td>6.0</td>\n",
       "      <td>...</td>\n",
       "      <td>False</td>\n",
       "      <td>False</td>\n",
       "      <td>False</td>\n",
       "      <td>False</td>\n",
       "      <td>False</td>\n",
       "      <td>False</td>\n",
       "      <td>False</td>\n",
       "      <td>False</td>\n",
       "      <td>6</td>\n",
       "      <td>tekstil'shhiki</td>\n",
       "    </tr>\n",
       "    <tr>\n",
       "      <td>3</td>\n",
       "      <td>4</td>\n",
       "      <td>2011-09-01</td>\n",
       "      <td>89</td>\n",
       "      <td>50.0</td>\n",
       "      <td>9.0</td>\n",
       "      <td>12.0</td>\n",
       "      <td>1.0</td>\n",
       "      <td>1979.0</td>\n",
       "      <td>2.0</td>\n",
       "      <td>6.0</td>\n",
       "      <td>...</td>\n",
       "      <td>False</td>\n",
       "      <td>False</td>\n",
       "      <td>False</td>\n",
       "      <td>False</td>\n",
       "      <td>False</td>\n",
       "      <td>False</td>\n",
       "      <td>False</td>\n",
       "      <td>False</td>\n",
       "      <td>7</td>\n",
       "      <td>mitino</td>\n",
       "    </tr>\n",
       "    <tr>\n",
       "      <td>4</td>\n",
       "      <td>5</td>\n",
       "      <td>2011-09-05</td>\n",
       "      <td>77</td>\n",
       "      <td>77.0</td>\n",
       "      <td>4.0</td>\n",
       "      <td>12.0</td>\n",
       "      <td>1.0</td>\n",
       "      <td>1979.0</td>\n",
       "      <td>2.0</td>\n",
       "      <td>6.0</td>\n",
       "      <td>...</td>\n",
       "      <td>False</td>\n",
       "      <td>False</td>\n",
       "      <td>False</td>\n",
       "      <td>False</td>\n",
       "      <td>False</td>\n",
       "      <td>False</td>\n",
       "      <td>False</td>\n",
       "      <td>False</td>\n",
       "      <td>6</td>\n",
       "      <td>basmannoe</td>\n",
       "    </tr>\n",
       "    <tr>\n",
       "      <td>...</td>\n",
       "      <td>...</td>\n",
       "      <td>...</td>\n",
       "      <td>...</td>\n",
       "      <td>...</td>\n",
       "      <td>...</td>\n",
       "      <td>...</td>\n",
       "      <td>...</td>\n",
       "      <td>...</td>\n",
       "      <td>...</td>\n",
       "      <td>...</td>\n",
       "      <td>...</td>\n",
       "      <td>...</td>\n",
       "      <td>...</td>\n",
       "      <td>...</td>\n",
       "      <td>...</td>\n",
       "      <td>...</td>\n",
       "      <td>...</td>\n",
       "      <td>...</td>\n",
       "      <td>...</td>\n",
       "      <td>...</td>\n",
       "      <td>...</td>\n",
       "    </tr>\n",
       "    <tr>\n",
       "      <td>30466</td>\n",
       "      <td>30469</td>\n",
       "      <td>2015-06-30</td>\n",
       "      <td>44</td>\n",
       "      <td>27.0</td>\n",
       "      <td>7.0</td>\n",
       "      <td>9.0</td>\n",
       "      <td>1.0</td>\n",
       "      <td>1975.0</td>\n",
       "      <td>2.0</td>\n",
       "      <td>6.0</td>\n",
       "      <td>...</td>\n",
       "      <td>False</td>\n",
       "      <td>False</td>\n",
       "      <td>False</td>\n",
       "      <td>False</td>\n",
       "      <td>False</td>\n",
       "      <td>False</td>\n",
       "      <td>False</td>\n",
       "      <td>False</td>\n",
       "      <td>1</td>\n",
       "      <td>otradnoe</td>\n",
       "    </tr>\n",
       "    <tr>\n",
       "      <td>30467</td>\n",
       "      <td>30470</td>\n",
       "      <td>2015-06-30</td>\n",
       "      <td>86</td>\n",
       "      <td>59.0</td>\n",
       "      <td>3.0</td>\n",
       "      <td>9.0</td>\n",
       "      <td>2.0</td>\n",
       "      <td>1935.0</td>\n",
       "      <td>4.0</td>\n",
       "      <td>10.0</td>\n",
       "      <td>...</td>\n",
       "      <td>False</td>\n",
       "      <td>False</td>\n",
       "      <td>False</td>\n",
       "      <td>False</td>\n",
       "      <td>False</td>\n",
       "      <td>False</td>\n",
       "      <td>False</td>\n",
       "      <td>False</td>\n",
       "      <td>0</td>\n",
       "      <td>tverskoe</td>\n",
       "    </tr>\n",
       "    <tr>\n",
       "      <td>30468</td>\n",
       "      <td>30471</td>\n",
       "      <td>2015-06-30</td>\n",
       "      <td>45</td>\n",
       "      <td>30.0</td>\n",
       "      <td>10.0</td>\n",
       "      <td>20.0</td>\n",
       "      <td>1.0</td>\n",
       "      <td>1979.0</td>\n",
       "      <td>1.0</td>\n",
       "      <td>1.0</td>\n",
       "      <td>...</td>\n",
       "      <td>False</td>\n",
       "      <td>False</td>\n",
       "      <td>False</td>\n",
       "      <td>False</td>\n",
       "      <td>False</td>\n",
       "      <td>False</td>\n",
       "      <td>False</td>\n",
       "      <td>False</td>\n",
       "      <td>21</td>\n",
       "      <td>poselenie vnukovskoe</td>\n",
       "    </tr>\n",
       "    <tr>\n",
       "      <td>30469</td>\n",
       "      <td>30472</td>\n",
       "      <td>2015-06-30</td>\n",
       "      <td>64</td>\n",
       "      <td>32.0</td>\n",
       "      <td>5.0</td>\n",
       "      <td>15.0</td>\n",
       "      <td>1.0</td>\n",
       "      <td>2003.0</td>\n",
       "      <td>2.0</td>\n",
       "      <td>11.0</td>\n",
       "      <td>...</td>\n",
       "      <td>False</td>\n",
       "      <td>False</td>\n",
       "      <td>False</td>\n",
       "      <td>False</td>\n",
       "      <td>False</td>\n",
       "      <td>False</td>\n",
       "      <td>False</td>\n",
       "      <td>False</td>\n",
       "      <td>0</td>\n",
       "      <td>obruchevskoe</td>\n",
       "    </tr>\n",
       "    <tr>\n",
       "      <td>30470</td>\n",
       "      <td>30473</td>\n",
       "      <td>2015-06-30</td>\n",
       "      <td>43</td>\n",
       "      <td>28.0</td>\n",
       "      <td>1.0</td>\n",
       "      <td>9.0</td>\n",
       "      <td>1.0</td>\n",
       "      <td>1968.0</td>\n",
       "      <td>2.0</td>\n",
       "      <td>6.0</td>\n",
       "      <td>...</td>\n",
       "      <td>False</td>\n",
       "      <td>False</td>\n",
       "      <td>False</td>\n",
       "      <td>False</td>\n",
       "      <td>False</td>\n",
       "      <td>False</td>\n",
       "      <td>False</td>\n",
       "      <td>False</td>\n",
       "      <td>0</td>\n",
       "      <td>novogireevo</td>\n",
       "    </tr>\n",
       "  </tbody>\n",
       "</table>\n",
       "<p>30471 rows × 345 columns</p>\n",
       "</div>"
      ],
      "text/plain": [
       "          id   timestamp  full_sq  life_sq  floor  max_floor  material  \\\n",
       "0          1  2011-08-20       43     27.0    4.0       12.0       1.0   \n",
       "1          2  2011-08-23       34     19.0    3.0       12.0       1.0   \n",
       "2          3  2011-08-27       43     29.0    2.0       12.0       1.0   \n",
       "3          4  2011-09-01       89     50.0    9.0       12.0       1.0   \n",
       "4          5  2011-09-05       77     77.0    4.0       12.0       1.0   \n",
       "...      ...         ...      ...      ...    ...        ...       ...   \n",
       "30466  30469  2015-06-30       44     27.0    7.0        9.0       1.0   \n",
       "30467  30470  2015-06-30       86     59.0    3.0        9.0       2.0   \n",
       "30468  30471  2015-06-30       45     30.0   10.0       20.0       1.0   \n",
       "30469  30472  2015-06-30       64     32.0    5.0       15.0       1.0   \n",
       "30470  30473  2015-06-30       43     28.0    1.0        9.0       1.0   \n",
       "\n",
       "       build_year  num_room  kitch_sq  ...  cafe_avg_price_2000_ismissing  \\\n",
       "0          1979.0       2.0       6.0  ...                          False   \n",
       "1          1979.0       2.0       6.0  ...                          False   \n",
       "2          1979.0       2.0       6.0  ...                          False   \n",
       "3          1979.0       2.0       6.0  ...                          False   \n",
       "4          1979.0       2.0       6.0  ...                          False   \n",
       "...           ...       ...       ...  ...                            ...   \n",
       "30466      1975.0       2.0       6.0  ...                          False   \n",
       "30467      1935.0       4.0      10.0  ...                          False   \n",
       "30468      1979.0       1.0       1.0  ...                          False   \n",
       "30469      2003.0       2.0      11.0  ...                          False   \n",
       "30470      1968.0       2.0       6.0  ...                          False   \n",
       "\n",
       "      cafe_sum_3000_min_price_avg_ismissing  \\\n",
       "0                                     False   \n",
       "1                                     False   \n",
       "2                                     False   \n",
       "3                                     False   \n",
       "4                                     False   \n",
       "...                                     ...   \n",
       "30466                                 False   \n",
       "30467                                 False   \n",
       "30468                                 False   \n",
       "30469                                 False   \n",
       "30470                                 False   \n",
       "\n",
       "      cafe_sum_3000_max_price_avg_ismissing  cafe_avg_price_3000_ismissing  \\\n",
       "0                                     False                          False   \n",
       "1                                     False                          False   \n",
       "2                                     False                          False   \n",
       "3                                     False                          False   \n",
       "4                                     False                          False   \n",
       "...                                     ...                            ...   \n",
       "30466                                 False                          False   \n",
       "30467                                 False                          False   \n",
       "30468                                 False                          False   \n",
       "30469                                 False                          False   \n",
       "30470                                 False                          False   \n",
       "\n",
       "       prom_part_5000_ismissing  cafe_sum_5000_min_price_avg_ismissing  \\\n",
       "0                         False                                  False   \n",
       "1                         False                                  False   \n",
       "2                         False                                  False   \n",
       "3                         False                                  False   \n",
       "4                         False                                  False   \n",
       "...                         ...                                    ...   \n",
       "30466                     False                                  False   \n",
       "30467                     False                                  False   \n",
       "30468                     False                                  False   \n",
       "30469                     False                                  False   \n",
       "30470                     False                                  False   \n",
       "\n",
       "       cafe_sum_5000_max_price_avg_ismissing  cafe_avg_price_5000_ismissing  \\\n",
       "0                                      False                          False   \n",
       "1                                      False                          False   \n",
       "2                                      False                          False   \n",
       "3                                      False                          False   \n",
       "4                                      False                          False   \n",
       "...                                      ...                            ...   \n",
       "30466                                  False                          False   \n",
       "30467                                  False                          False   \n",
       "30468                                  False                          False   \n",
       "30469                                  False                          False   \n",
       "30470                                  False                          False   \n",
       "\n",
       "       num_missing        sub_area_lower  \n",
       "0                9              bibirevo  \n",
       "1                6     nagatinskij zaton  \n",
       "2                6        tekstil'shhiki  \n",
       "3                7                mitino  \n",
       "4                6             basmannoe  \n",
       "...            ...                   ...  \n",
       "30466            1              otradnoe  \n",
       "30467            0              tverskoe  \n",
       "30468           21  poselenie vnukovskoe  \n",
       "30469            0          obruchevskoe  \n",
       "30470            0           novogireevo  \n",
       "\n",
       "[30471 rows x 345 columns]"
      ]
     },
     "execution_count": 23,
     "metadata": {},
     "output_type": "execute_result"
    }
   ],
   "source": [
    "df"
   ]
  },
  {
   "cell_type": "markdown",
   "metadata": {},
   "source": [
    "What to do?\n",
    "We can convert it and extract the date or time values by using the code below. After this, it’s easier to analyze the transaction volume group by either year or month."
   ]
  },
  {
   "cell_type": "code",
   "execution_count": 24,
   "metadata": {},
   "outputs": [
    {
     "name": "stdout",
     "output_type": "stream",
     "text": [
      "2014    13662\n",
      "2013     7978\n",
      "2012     4839\n",
      "2015     3239\n",
      "2011      753\n",
      "Name: year, dtype: int64\n",
      "\n",
      "12    3400\n",
      "4     3191\n",
      "3     2972\n",
      "11    2970\n",
      "10    2736\n",
      "6     2570\n",
      "5     2496\n",
      "9     2346\n",
      "2     2275\n",
      "7     1875\n",
      "8     1831\n",
      "1     1809\n",
      "Name: month, dtype: int64\n"
     ]
    }
   ],
   "source": [
    "df['timestamp_dt'] = pd.to_datetime(df['timestamp'], format='%Y-%m-%d')\n",
    "df['year'] = df['timestamp_dt'].dt.year\n",
    "df['month'] = df['timestamp_dt'].dt.month\n",
    "df['weekday'] = df['timestamp_dt'].dt.weekday\n",
    "\n",
    "print(df['year'].value_counts(dropna=False))\n",
    "print()\n",
    "print(df['month'].value_counts(dropna=False))"
   ]
  },
  {
   "cell_type": "markdown",
   "metadata": {},
   "source": [
    "## Inconsistent type #3: Categorical Values\n",
    "Inconsistent categorical values are the last inconsistent type we cover. A categorical feature has a limited number of values. Sometimes there may be other values due to reasons such as typos."
   ]
  },
  {
   "cell_type": "markdown",
   "metadata": {},
   "source": [
    "## How to find out?\n",
    "We need to observe the feature to find out this inconsistency. Let’s show this with an example.\n",
    "We create a new dataset below since we don’t have such a problem in the real estate dataset. For instance, the value of city was typed by mistakes as “torontoo” and “tronto”. But they both refer to the correct value “toronto”.\n",
    "A simple way to identify them is fuzzy logic (or edit distance). It measures how many letters (distance) we need to change the spelling of one value to match with another value.\n",
    "We know that the categories should only have four values of “toronto”, “vancouver”, “montreal”, and “calgary”. We calculate the distance between all the values and the word “toronto” (and “vancouver”). We can see that the ones likely to be typos have a smaller distance with the correct word."
   ]
  },
  {
   "cell_type": "code",
   "execution_count": 25,
   "metadata": {},
   "outputs": [
    {
     "data": {
      "text/html": [
       "<div>\n",
       "<style scoped>\n",
       "    .dataframe tbody tr th:only-of-type {\n",
       "        vertical-align: middle;\n",
       "    }\n",
       "\n",
       "    .dataframe tbody tr th {\n",
       "        vertical-align: top;\n",
       "    }\n",
       "\n",
       "    .dataframe thead th {\n",
       "        text-align: right;\n",
       "    }\n",
       "</style>\n",
       "<table border=\"1\" class=\"dataframe\">\n",
       "  <thead>\n",
       "    <tr style=\"text-align: right;\">\n",
       "      <th></th>\n",
       "      <th>city</th>\n",
       "      <th>city_distance_toronto</th>\n",
       "      <th>city_distance_vancouver</th>\n",
       "    </tr>\n",
       "  </thead>\n",
       "  <tbody>\n",
       "    <tr>\n",
       "      <td>0</td>\n",
       "      <td>torontoo</td>\n",
       "      <td>1</td>\n",
       "      <td>8</td>\n",
       "    </tr>\n",
       "    <tr>\n",
       "      <td>1</td>\n",
       "      <td>toronto</td>\n",
       "      <td>0</td>\n",
       "      <td>8</td>\n",
       "    </tr>\n",
       "    <tr>\n",
       "      <td>2</td>\n",
       "      <td>tronto</td>\n",
       "      <td>1</td>\n",
       "      <td>8</td>\n",
       "    </tr>\n",
       "    <tr>\n",
       "      <td>3</td>\n",
       "      <td>vancouver</td>\n",
       "      <td>8</td>\n",
       "      <td>0</td>\n",
       "    </tr>\n",
       "    <tr>\n",
       "      <td>4</td>\n",
       "      <td>vancover</td>\n",
       "      <td>7</td>\n",
       "      <td>1</td>\n",
       "    </tr>\n",
       "    <tr>\n",
       "      <td>5</td>\n",
       "      <td>vancouvr</td>\n",
       "      <td>7</td>\n",
       "      <td>1</td>\n",
       "    </tr>\n",
       "    <tr>\n",
       "      <td>6</td>\n",
       "      <td>montreal</td>\n",
       "      <td>7</td>\n",
       "      <td>8</td>\n",
       "    </tr>\n",
       "    <tr>\n",
       "      <td>7</td>\n",
       "      <td>calgary</td>\n",
       "      <td>7</td>\n",
       "      <td>8</td>\n",
       "    </tr>\n",
       "  </tbody>\n",
       "</table>\n",
       "</div>"
      ],
      "text/plain": [
       "        city  city_distance_toronto  city_distance_vancouver\n",
       "0   torontoo                      1                        8\n",
       "1    toronto                      0                        8\n",
       "2     tronto                      1                        8\n",
       "3  vancouver                      8                        0\n",
       "4   vancover                      7                        1\n",
       "5   vancouvr                      7                        1\n",
       "6   montreal                      7                        8\n",
       "7    calgary                      7                        8"
      ]
     },
     "execution_count": 25,
     "metadata": {},
     "output_type": "execute_result"
    }
   ],
   "source": [
    "# Since they only differ by a couple of letters.\n",
    "from nltk.metrics import edit_distance\n",
    "\n",
    "df_city_ex = pd.DataFrame(data={'city': ['torontoo', 'toronto', 'tronto', 'vancouver', 'vancover', 'vancouvr', 'montreal', 'calgary']})\n",
    "\n",
    "\n",
    "df_city_ex['city_distance_toronto'] = df_city_ex['city'].map(lambda x: edit_distance(x, 'toronto'))\n",
    "df_city_ex['city_distance_vancouver'] = df_city_ex['city'].map(lambda x: edit_distance(x, 'vancouver'))\n",
    "df_city_ex"
   ]
  },
  {
   "cell_type": "markdown",
   "metadata": {},
   "source": [
    "## What to do?\n",
    "We can set criteria to convert these typos to the correct values. For example, the below code sets all the values within 2 letters distance from “toronto” to be “toronto”.\n"
   ]
  },
  {
   "cell_type": "code",
   "execution_count": 26,
   "metadata": {},
   "outputs": [
    {
     "data": {
      "text/html": [
       "<div>\n",
       "<style scoped>\n",
       "    .dataframe tbody tr th:only-of-type {\n",
       "        vertical-align: middle;\n",
       "    }\n",
       "\n",
       "    .dataframe tbody tr th {\n",
       "        vertical-align: top;\n",
       "    }\n",
       "\n",
       "    .dataframe thead th {\n",
       "        text-align: right;\n",
       "    }\n",
       "</style>\n",
       "<table border=\"1\" class=\"dataframe\">\n",
       "  <thead>\n",
       "    <tr style=\"text-align: right;\">\n",
       "      <th></th>\n",
       "      <th>city</th>\n",
       "      <th>city_distance_toronto</th>\n",
       "      <th>city_distance_vancouver</th>\n",
       "    </tr>\n",
       "  </thead>\n",
       "  <tbody>\n",
       "    <tr>\n",
       "      <td>0</td>\n",
       "      <td>toronto</td>\n",
       "      <td>1</td>\n",
       "      <td>8</td>\n",
       "    </tr>\n",
       "    <tr>\n",
       "      <td>1</td>\n",
       "      <td>toronto</td>\n",
       "      <td>0</td>\n",
       "      <td>8</td>\n",
       "    </tr>\n",
       "    <tr>\n",
       "      <td>2</td>\n",
       "      <td>toronto</td>\n",
       "      <td>1</td>\n",
       "      <td>8</td>\n",
       "    </tr>\n",
       "    <tr>\n",
       "      <td>3</td>\n",
       "      <td>vancouver</td>\n",
       "      <td>8</td>\n",
       "      <td>0</td>\n",
       "    </tr>\n",
       "    <tr>\n",
       "      <td>4</td>\n",
       "      <td>vancouver</td>\n",
       "      <td>7</td>\n",
       "      <td>1</td>\n",
       "    </tr>\n",
       "    <tr>\n",
       "      <td>5</td>\n",
       "      <td>vancouver</td>\n",
       "      <td>7</td>\n",
       "      <td>1</td>\n",
       "    </tr>\n",
       "    <tr>\n",
       "      <td>6</td>\n",
       "      <td>montreal</td>\n",
       "      <td>7</td>\n",
       "      <td>8</td>\n",
       "    </tr>\n",
       "    <tr>\n",
       "      <td>7</td>\n",
       "      <td>calgary</td>\n",
       "      <td>7</td>\n",
       "      <td>8</td>\n",
       "    </tr>\n",
       "  </tbody>\n",
       "</table>\n",
       "</div>"
      ],
      "text/plain": [
       "        city  city_distance_toronto  city_distance_vancouver\n",
       "0    toronto                      1                        8\n",
       "1    toronto                      0                        8\n",
       "2    toronto                      1                        8\n",
       "3  vancouver                      8                        0\n",
       "4  vancouver                      7                        1\n",
       "5  vancouver                      7                        1\n",
       "6   montreal                      7                        8\n",
       "7    calgary                      7                        8"
      ]
     },
     "execution_count": 26,
     "metadata": {},
     "output_type": "execute_result"
    }
   ],
   "source": [
    "msk = df_city_ex['city_distance_toronto'] <= 2\n",
    "df_city_ex.loc[msk, 'city'] = 'toronto'\n",
    "\n",
    "msk = df_city_ex['city_distance_vancouver'] <= 2\n",
    "df_city_ex.loc[msk, 'city'] = 'vancouver'\n",
    "\n",
    "df_city_ex"
   ]
  },
  {
   "cell_type": "markdown",
   "metadata": {},
   "source": [
    "## Inconsistent type #4: Addresses\n",
    "The address feature could be a headache for many of us. Because people entering the data into the database often don’t follow a standard format.\n",
    "How to find out?\n",
    "We can find messy address data by looking at it. Even though sometimes we can’t spot any issues, we can still run code to standardize them.\n",
    "There is no address column in our dataset for privacy reasons. So we create a new dataset df_add_ex with feature address."
   ]
  },
  {
   "cell_type": "code",
   "execution_count": 27,
   "metadata": {},
   "outputs": [
    {
     "data": {
      "text/html": [
       "<div>\n",
       "<style scoped>\n",
       "    .dataframe tbody tr th:only-of-type {\n",
       "        vertical-align: middle;\n",
       "    }\n",
       "\n",
       "    .dataframe tbody tr th {\n",
       "        vertical-align: top;\n",
       "    }\n",
       "\n",
       "    .dataframe thead th {\n",
       "        text-align: right;\n",
       "    }\n",
       "</style>\n",
       "<table border=\"1\" class=\"dataframe\">\n",
       "  <thead>\n",
       "    <tr style=\"text-align: right;\">\n",
       "      <th></th>\n",
       "      <th>address</th>\n",
       "    </tr>\n",
       "  </thead>\n",
       "  <tbody>\n",
       "    <tr>\n",
       "      <td>0</td>\n",
       "      <td>123 MAIN St Apartment 15</td>\n",
       "    </tr>\n",
       "    <tr>\n",
       "      <td>1</td>\n",
       "      <td>123 Main Street Apt 12</td>\n",
       "    </tr>\n",
       "    <tr>\n",
       "      <td>2</td>\n",
       "      <td>543 FirSt Av</td>\n",
       "    </tr>\n",
       "    <tr>\n",
       "      <td>3</td>\n",
       "      <td>876 FIRst Ave.</td>\n",
       "    </tr>\n",
       "  </tbody>\n",
       "</table>\n",
       "</div>"
      ],
      "text/plain": [
       "                     address\n",
       "0   123 MAIN St Apartment 15\n",
       "1  123 Main Street Apt 12   \n",
       "2               543 FirSt Av\n",
       "3             876 FIRst Ave."
      ]
     },
     "execution_count": 27,
     "metadata": {},
     "output_type": "execute_result"
    }
   ],
   "source": [
    "# no address column in the housing dataset. So create one to show the code.\n",
    "df_add_ex = pd.DataFrame(['123 MAIN St Apartment 15', '123 Main Street Apt 12   ', '543 FirSt Av', '  876 FIRst Ave.'], columns=['address'])\n",
    "df_add_ex\n",
    "# As we can see, the address feature is quite messy.\n",
    "# What to do?\n",
    "# We run the below code to lowercase the letters, remove white space, delete periods and standardize wordings.\n"
   ]
  },
  {
   "cell_type": "code",
   "execution_count": 28,
   "metadata": {},
   "outputs": [
    {
     "data": {
      "text/html": [
       "<div>\n",
       "<style scoped>\n",
       "    .dataframe tbody tr th:only-of-type {\n",
       "        vertical-align: middle;\n",
       "    }\n",
       "\n",
       "    .dataframe tbody tr th {\n",
       "        vertical-align: top;\n",
       "    }\n",
       "\n",
       "    .dataframe thead th {\n",
       "        text-align: right;\n",
       "    }\n",
       "</style>\n",
       "<table border=\"1\" class=\"dataframe\">\n",
       "  <thead>\n",
       "    <tr style=\"text-align: right;\">\n",
       "      <th></th>\n",
       "      <th>address</th>\n",
       "      <th>address_std</th>\n",
       "    </tr>\n",
       "  </thead>\n",
       "  <tbody>\n",
       "    <tr>\n",
       "      <td>0</td>\n",
       "      <td>123 MAIN St Apartment 15</td>\n",
       "      <td>123 main st apt 15</td>\n",
       "    </tr>\n",
       "    <tr>\n",
       "      <td>1</td>\n",
       "      <td>123 Main Street Apt 12</td>\n",
       "      <td>123 main st apt 12</td>\n",
       "    </tr>\n",
       "    <tr>\n",
       "      <td>2</td>\n",
       "      <td>543 FirSt Av</td>\n",
       "      <td>543 first ave</td>\n",
       "    </tr>\n",
       "    <tr>\n",
       "      <td>3</td>\n",
       "      <td>876 FIRst Ave.</td>\n",
       "      <td>876 first ave</td>\n",
       "    </tr>\n",
       "  </tbody>\n",
       "</table>\n",
       "</div>"
      ],
      "text/plain": [
       "                     address         address_std\n",
       "0   123 MAIN St Apartment 15  123 main st apt 15\n",
       "1  123 Main Street Apt 12     123 main st apt 12\n",
       "2               543 FirSt Av       543 first ave\n",
       "3             876 FIRst Ave.       876 first ave"
      ]
     },
     "execution_count": 28,
     "metadata": {},
     "output_type": "execute_result"
    }
   ],
   "source": [
    "df_add_ex['address_std'] = df_add_ex['address'].str.lower()\n",
    "df_add_ex['address_std'] = df_add_ex['address_std'].str.strip() # remove leading and trailing whitespace.\n",
    "df_add_ex['address_std'] = df_add_ex['address_std'].str.replace('\\\\.', '') # remove period.\n",
    "df_add_ex['address_std'] = df_add_ex['address_std'].str.replace('\\\\bstreet\\\\b', 'st') # replace street with st.\n",
    "df_add_ex['address_std'] = df_add_ex['address_std'].str.replace('\\\\bapartment\\\\b', 'apt') # replace apartment with apt.\n",
    "df_add_ex['address_std'] = df_add_ex['address_std'].str.replace('\\\\bav\\\\b', 'ave') # replace apartment with apt.\n",
    "\n",
    "df_add_ex\n",
    "# It looks much better now."
   ]
  },
  {
   "cell_type": "markdown",
   "metadata": {},
   "source": [
    "## We did it! What a long journey we have come along.\n",
    "Clear all the “dirty” data that’s blocking your way to fit the model.\n",
    "Be the boss of cleaning!"
   ]
  },
  {
   "cell_type": "code",
   "execution_count": null,
   "metadata": {},
   "outputs": [],
   "source": []
  }
 ],
 "metadata": {
  "kernelspec": {
   "display_name": "Python 3",
   "language": "python",
   "name": "python3"
  },
  "language_info": {
   "codemirror_mode": {
    "name": "ipython",
    "version": 3
   },
   "file_extension": ".py",
   "mimetype": "text/x-python",
   "name": "python",
   "nbconvert_exporter": "python",
   "pygments_lexer": "ipython3",
   "version": "3.7.3"
  }
 },
 "nbformat": 4,
 "nbformat_minor": 2
}
