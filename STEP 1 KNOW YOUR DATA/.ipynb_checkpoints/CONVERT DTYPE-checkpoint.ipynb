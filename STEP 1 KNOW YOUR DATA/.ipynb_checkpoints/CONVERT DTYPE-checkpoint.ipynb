{
 "cells": [
  {
   "cell_type": "code",
   "execution_count": null,
   "metadata": {},
   "outputs": [],
   "source": []
  },
  {
   "cell_type": "code",
   "execution_count": null,
   "metadata": {},
   "outputs": [],
   "source": [
    "# To convert float to int datatype when the column has NAN values use this.\n",
    "import numpy as np\n",
    "import pandas as pd\n",
    "# save a csv file as a dataframe\n",
    "df=pd.read_csv('SalesKaggle3.csv')\n",
    "print(df)\n",
    "\n",
    "# Convert OBject to Float64 when column has NaN values.\n",
    "df['Price Each','Quantity Ordered'] = pd.to_numeric(df['Price Each'])\n",
    "# Convert Float64 to int64 when column has NaN values.\n",
    "df['Price Each','Quantity Ordered'] = df['Price Each','Quantity Ordered'].astype(np.int64)\n",
    "\n",
    "# To convert float to int datatype when column has NaN values.\n",
    "df['SoldFlag']=df['SoldFlag'].astype(pd.Int32Dtype())\n",
    "print(df.dtypes)\n",
    "# To convert object to int datatype (first convert object to float and then float to int)\n",
    "# To convert float to int datatype when the column has NAN values use this.\n",
    "# when the column has NAN values use this.\n",
    "df['Price'] = pd.to_numeric(df['Price']).astype(pd.Int32Dtype())\n",
    "\n",
    "# To Determine if columns has numeric data(float)\n",
    "#It isn't, let's find our why\n",
    "df['number_of_fires'].str.isnumeric()\n",
    "# count the numeric \n",
    "df['number_of_fires'].str.isnumeric().value_counts()\n",
    "\n",
    "# List out the values which are not numeric in the particular column\n",
    "automobile['price'].loc[automobile['price'].str.isnumeric() == False]\n",
    "\n",
    "# We GEt error with above line \n",
    "\n",
    "# We get the above error because our isdigit() returns Nan for blank or missing values\n",
    "# To fix this we need to convert our column datatype from non-null objects to a String\n",
    "\n",
    "df['number_of_fires'].astype(str).str.isdigit()\n",
    "# Count of digits ,sum doesnot count null.\n",
    "df['number_of_fires'].astype(str).str.isdigit().sum()\n",
    "\n",
    "# True- If all characters in the string are whitespace characters.\n",
    "df['number_of_fires'].astype(str).str.isspace()\n",
    "\n",
    "# True- If all characters in the string are alphabet.\n",
    "df['key'].astype(str).str.isalpha()\n",
    "\n",
    "\n",
    "\n",
    "# error = ignore will print the value as it when it is not integer value\n",
    "pd.to_numeric(df['ind'], errors='ignore')\n",
    "\n",
    "# coerce will change the false value(non numeric value) to null.\n",
    "pd.to_numeric(df['ind'], errors='coerce')\n",
    "# it will also change the dtype form object to int/float\n",
    "df['ind']=pd.to_numeric(df['ind'], errors='coerce')\n",
    "\n",
    "\n",
    "# to change the string values to int using category to save the memory. string takes more memory than the int.\n",
    "df.continent.astype('category')\n",
    "\n",
    "#codes will give the string a int values.\n",
    "df.continent.cat.codes.head()\n"
   ]
  },
  {
   "cell_type": "code",
   "execution_count": null,
   "metadata": {},
   "outputs": [],
   "source": []
  },
  {
   "cell_type": "code",
   "execution_count": null,
   "metadata": {},
   "outputs": [],
   "source": []
  },
  {
   "cell_type": "code",
   "execution_count": null,
   "metadata": {},
   "outputs": [],
   "source": []
  },
  {
   "cell_type": "code",
   "execution_count": null,
   "metadata": {},
   "outputs": [],
   "source": []
  }
 ],
 "metadata": {
  "kernelspec": {
   "display_name": "Python 3",
   "language": "python",
   "name": "python3"
  },
  "language_info": {
   "codemirror_mode": {
    "name": "ipython",
    "version": 3
   },
   "file_extension": ".py",
   "mimetype": "text/x-python",
   "name": "python",
   "nbconvert_exporter": "python",
   "pygments_lexer": "ipython3",
   "version": "3.7.3"
  }
 },
 "nbformat": 4,
 "nbformat_minor": 2
}
