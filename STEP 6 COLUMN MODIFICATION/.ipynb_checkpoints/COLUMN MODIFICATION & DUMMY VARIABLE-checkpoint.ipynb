{
 "cells": [
  {
   "cell_type": "markdown",
   "metadata": {},
   "source": [
    "# REARRANGING COLUMN"
   ]
  },
  {
   "cell_type": "code",
   "execution_count": null,
   "metadata": {},
   "outputs": [],
   "source": [
    "new_order = [4,1,0,2,3,]\n",
    "df = df[df.columns[new_order]]\n",
    "df.head()"
   ]
  },
  {
   "cell_type": "markdown",
   "metadata": {},
   "source": [
    "# NEW COLUMN WITH REPLACE"
   ]
  },
  {
   "cell_type": "code",
   "execution_count": null,
   "metadata": {},
   "outputs": [],
   "source": [
    "# if we make a new columns in which value will be numerical as show\n",
    "# we replace D with 1 and S with 0 with replace function\n",
    "# it will helpful to work on other function bcoz we want numerical value to perform the function as compare to categorical\n",
    "df['D_marketing']=df['MarketingType'].replace({'D':1,'S':0})\n",
    "df['S_marketing']=df['MarketingType'].replace({'D':1,'S':0})\n",
    "\n",
    "# it will replace $ symbol in column name with space\n",
    "df['dollar_prices'] = df['dollar_prices'].str.replace('$', '')\n",
    "\n",
    "# it will replace space in column name with undercore\n",
    "df['dollar_prices'] = df['dollar_prices'].str.replace(' ', '_')\n",
    "\n",
    "# taking the mean of the numeric column value and then replacing the ? with mean in column.\n",
    "hpmean = df.astype(str).astype(int).mean()\n",
    "df['horsepower'] = df['horsepower'].replace('?',hpmean).astype(int)\n",
    "\n",
    "\n",
    "# Replacing Column VALUES\n",
    "# Let's convert our Portuguese month names to English\n",
    "month_translations = {'Janeiro': 'January',\n",
    "'Fevereiro': 'February',\n",
    "'Março': 'March',\n",
    "'Abril': 'April',\n",
    "'Maio': 'May',\n",
    "'Junho': 'June',\n",
    "'Julho': 'July',\n",
    "'Agosto': 'August',\n",
    "'Setembro': 'September',\n",
    "'Outubro': 'October',\n",
    "'Novembro': 'November',\n",
    "'Dezembro': 'December'}\n",
    "\n",
    "df[\"month\"] = df[\"month\"].map(month_translations)\n",
    "\n",
    "# Further string functions on columns to uppercase ist character of the value.\n",
    "df['state'] = df['state'].str.title()\n",
    "\n",
    "\n",
    "# creating new column by combining two column values.\n",
    "df['Location']=df.city + ',' + df.state \n",
    "\n",
    "# create new columns by splitting the name column with space\n",
    "df.name.str.split(' ',expand=True)"
   ]
  },
  {
   "cell_type": "markdown",
   "metadata": {},
   "source": [
    "## REMOVING unnecessary text or space from Column Values"
   ]
  },
  {
   "cell_type": "code",
   "execution_count": null,
   "metadata": {},
   "outputs": [],
   "source": [
    "# Strip - It strips both end. Return a copy of the string with leading and trailing characters removed.\n",
    "# rstrip for rightend strip\n",
    "# lstrip for leftend strip\n",
    "#Here the example is stripping \"Fires\" from \"1 Fires\" and giving output as \"1\"\n",
    "df['number_of_fires'].str.strip(\" Fires\")\n",
    "# To replace column with cleaned column\n",
    "\n",
    "df['number_of_fires'] = df['number_of_fires'].str.strip(\" Fires\")\n",
    "df.head()\n",
    "\n",
    "# REmove special characters from column values.\n",
    "spec_chars = [\"!\",'\"',\"#\",\"%\",\"&\",\"'\",\"(\",\")\",\n",
    "              \"*\",\"+\",\",\",\"-\",\".\",\"/\",\":\",\";\",\"<\",\n",
    "              \"=\",\">\",\"?\",\"@\",\"[\",\"\\\\\",\"]\",\"^\",\"_\",\n",
    "              \"`\",\"{\",\"|\",\"}\",\"~\",\"–\"]\n",
    "for char in spec_chars:\n",
    "    df['title'] = df['title'].str.replace(char, ' ')\n",
    "    \n",
    "# to check the fires is in column value  will give true rows  \n",
    "df[df.number_of_fires.str.contains('Fires')]\n",
    "\n",
    "# to get boolean output as 0 &1 instead of true and false.\n",
    "df.number_of_fires.str.contains('Fires').astype(int)\n"
   ]
  },
  {
   "cell_type": "markdown",
   "metadata": {},
   "source": [
    "# DUMMY VARIABLE"
   ]
  },
  {
   "cell_type": "code",
   "execution_count": null,
   "metadata": {},
   "outputs": [],
   "source": [
    "# If we want to give column names to or dummy values.\n",
    "# If we want to give names by our choice 'prefix' argument do this. \n",
    "# Computing Dummy variable\n",
    "# get dummies will give the dummy values.\n",
    "import pandas as pd\n",
    "df = pd.DataFrame({'key': ['b', 'b', 'a', 'c', 'a', 'b'],'index': range(6)})\n",
    "print(df)\n",
    "print(\"------------Dummy Variables---------\")\n",
    "print(pd.get_dummies(df['key'])) \n",
    "dummies = pd.get_dummies(df['key'], prefix='key')\n",
    "df_with_dummy = df[['index']].join(dummies)\n",
    "print(df_with_dummy) "
   ]
  }
 ],
 "metadata": {
  "kernelspec": {
   "display_name": "Python 3",
   "language": "python",
   "name": "python3"
  },
  "language_info": {
   "codemirror_mode": {
    "name": "ipython",
    "version": 3
   },
   "file_extension": ".py",
   "mimetype": "text/x-python",
   "name": "python",
   "nbconvert_exporter": "python",
   "pygments_lexer": "ipython3",
   "version": "3.7.3"
  }
 },
 "nbformat": 4,
 "nbformat_minor": 2
}
