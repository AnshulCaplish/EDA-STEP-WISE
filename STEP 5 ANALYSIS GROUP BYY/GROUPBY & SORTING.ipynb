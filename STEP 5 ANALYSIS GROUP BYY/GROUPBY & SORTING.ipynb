{
 "cells": [
  {
   "cell_type": "markdown",
   "metadata": {},
   "source": [
    "# GROUP BY"
   ]
  },
  {
   "cell_type": "code",
   "execution_count": null,
   "metadata": {},
   "outputs": [],
   "source": [
    "# Create dataframe\n",
    "import pandas as pd\n",
    "data = {'Company':['GOOG','GOOG','MSFT','MSFT','FB','FB'],\n",
    "       'Person':['Sam','Charlie','Amy','Vanessa','Carl','Sarah'],\n",
    "       'Sales':[200,120,340,124,243,350]}\n",
    "df=pd.DataFrame(data)\n",
    "df"
   ]
  },
  {
   "cell_type": "code",
   "execution_count": null,
   "metadata": {},
   "outputs": [],
   "source": [
    "# mode does not works in groupby\n",
    "# First let's aggregate  based on 'Company' Column\n",
    "# We'll create our groupby object\n",
    "df_company=df.groupby(\"Company\")\n",
    "\n",
    "# How do we use our object?   To Print Particular Value of that Column related Rows.\n",
    "print(df_company.get_group('GOOG'))\n",
    "\n",
    "# Let's now use some Aggregation funtions\n",
    "# * mean() , * size(),  * count(), * sum(), * min(), * max()\n",
    "\n",
    "# Let's look at the groups we made\n",
    "# It is a dictionary where each key corresponds to a Company name\n",
    "# The values are the index ranges for each group\n",
    "df_company.groups\n",
    "\n",
    "# We can use Size to get a count of the number of items in each group\n",
    "df_company.size()\n",
    "\n",
    "grouped_data = data.groupby(['State']).size()\n",
    "grouped_data\n",
    "\n",
    "\n",
    "df_company.sum()\n",
    "\n",
    "# Note the top left cell named 'Company' is now the index\n",
    "# Previously the index was numbered numerically\n",
    "# The columns Sales are the grouped means\n",
    "print(df_company.mean())\n",
    "\n",
    "# In the below code:\n",
    "# 'Company' is what we're grouping \n",
    "# 'Sales' is column who's values we're running our aggregate mean function on\n",
    "# our index will be 'Company' after running this will give mean for sales only\n",
    "df.groupby('Company')['Sales'].mean()\n",
    "or\n",
    "df.groupby('Company').Sales.mean()\n",
    "# OR Another way of writing\n",
    "\n",
    "df_company2=df.groupby(\"Company\").mean()\n",
    "print(df_company2)\n",
    "\n",
    "# to get multiple aggregte function in one statement\n",
    "df.groupby('Company').Sales.agg(['count','min','max','mean'])\n",
    "\n",
    "# bar plot with groupby\n",
    "%matplotlib inline\n",
    "df.groupby(\"Company\").mean().plot(kind='bar')\n",
    "\n",
    "# group by one variable('make') and then taking min from other variable('price') and plotting the 10 smallest values of it.\n",
    "df.groupby('make').price.min().nsmallest(10).plot(kind='bar')\n",
    "\n",
    "\n",
    "#findin the numeric value and taking their mean.\n",
    "price = automobile['price'].loc[automobile['price'] != '?']\n",
    "pmean = price.astype(str).astype(int).mean()\n",
    "\n",
    "\n",
    "# Split the data into groups\n",
    "grouped_data = data[['State', 'Price']].groupby('State')\n",
    "list(grouped_data)\n",
    "\n",
    "# Get Mean price for every State(column)\n",
    "grouped_data = data[['State', 'Price']].groupby('State').mean()\n",
    "grouped_data.head()"
   ]
  },
  {
   "cell_type": "code",
   "execution_count": null,
   "metadata": {},
   "outputs": [],
   "source": [
    "print(\"-------------- STD--------------\")\n",
    "print(df_company.std())\n",
    "print(\"-------------- MIN--------------\")\n",
    "print(df_company.min())\n",
    "print(\"-------------- MAX--------------\")\n",
    "print(df_company.max())\n",
    "print(\"-------------- COUNT--------------\")\n",
    "print(df_company.count())"
   ]
  },
  {
   "cell_type": "markdown",
   "metadata": {},
   "source": [
    "# SORTING"
   ]
  },
  {
   "cell_type": "code",
   "execution_count": null,
   "metadata": {},
   "outputs": [],
   "source": [
    "# Sorting  (sort_values)\n",
    "import pandas as pd\n",
    "df = pd.DataFrame({'col1':[1,2,3,4],'col2':[444,555,666,444],'col3':['abc','def','ghi','xyz']})\n",
    "print(df)\n",
    "print(\"------------------Sort-----------------\")\n",
    "print(df.sort_values(by='col2')) #inplace=False by default\n",
    "\n",
    "# it will sort the col1\n",
    "print(df['col1'].sort_values()) \n",
    "or\n",
    "print(df.sort_values('col1'))\n",
    "\n",
    "# It will print highest value ist\n",
    "print(df.sort_values('col1',ascending=False))\n",
    "\n",
    "# sort multiple columns\n",
    "print(df.sort_values(['col1','col2']))\n",
    "\n",
    "# sort with index\n",
    "df.col2.value_counts().sort_index()"
   ]
  },
  {
   "cell_type": "code",
   "execution_count": null,
   "metadata": {},
   "outputs": [],
   "source": []
  },
  {
   "cell_type": "code",
   "execution_count": null,
   "metadata": {},
   "outputs": [],
   "source": []
  },
  {
   "cell_type": "code",
   "execution_count": null,
   "metadata": {},
   "outputs": [],
   "source": []
  },
  {
   "cell_type": "code",
   "execution_count": null,
   "metadata": {},
   "outputs": [],
   "source": []
  },
  {
   "cell_type": "code",
   "execution_count": null,
   "metadata": {},
   "outputs": [],
   "source": []
  },
  {
   "cell_type": "code",
   "execution_count": null,
   "metadata": {},
   "outputs": [],
   "source": []
  }
 ],
 "metadata": {
  "kernelspec": {
   "display_name": "Python 3",
   "language": "python",
   "name": "python3"
  },
  "language_info": {
   "codemirror_mode": {
    "name": "ipython",
    "version": 3
   },
   "file_extension": ".py",
   "mimetype": "text/x-python",
   "name": "python",
   "nbconvert_exporter": "python",
   "pygments_lexer": "ipython3",
   "version": "3.7.3"
  }
 },
 "nbformat": 4,
 "nbformat_minor": 2
}
